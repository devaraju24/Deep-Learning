{
  "nbformat": 4,
  "nbformat_minor": 0,
  "metadata": {
    "kernelspec": {
      "display_name": "Python 3",
      "language": "python",
      "name": "python3"
    },
    "language_info": {
      "codemirror_mode": {
        "name": "ipython",
        "version": 3
      },
      "file_extension": ".py",
      "mimetype": "text/x-python",
      "name": "python",
      "nbconvert_exporter": "python",
      "pygments_lexer": "ipython3",
      "version": "3.7.6"
    },
    "colab": {
      "name": "main_image_annotation_Binarymask.ipynb",
      "provenance": [],
      "collapsed_sections": [],
      "toc_visible": true
    }
  },
  "cells": [
    {
      "cell_type": "code",
      "metadata": {
        "id": "hdmJfjxxd4dx",
        "colab_type": "code",
        "colab": {
          "base_uri": "https://localhost:8080/",
          "height": 121
        },
        "outputId": "27ef8bd4-8127-46e6-c78e-4ef87db27d83"
      },
      "source": [
        "from google.colab import drive\n",
        "drive.mount('/content/drive')"
      ],
      "execution_count": 1,
      "outputs": [
        {
          "output_type": "stream",
          "text": [
            "Go to this URL in a browser: https://accounts.google.com/o/oauth2/auth?client_id=947318989803-6bn6qk8qdgf4n4g3pfee6491hc0brc4i.apps.googleusercontent.com&redirect_uri=urn%3aietf%3awg%3aoauth%3a2.0%3aoob&response_type=code&scope=email%20https%3a%2f%2fwww.googleapis.com%2fauth%2fdocs.test%20https%3a%2f%2fwww.googleapis.com%2fauth%2fdrive%20https%3a%2f%2fwww.googleapis.com%2fauth%2fdrive.photos.readonly%20https%3a%2f%2fwww.googleapis.com%2fauth%2fpeopleapi.readonly\n",
            "\n",
            "Enter your authorization code:\n",
            "··········\n",
            "Mounted at /content/drive\n"
          ],
          "name": "stdout"
        }
      ]
    },
    {
      "cell_type": "code",
      "metadata": {
        "id": "SsYvGgAffodP",
        "colab_type": "code",
        "colab": {}
      },
      "source": [
        "import os\n",
        "import pickle\n",
        "import string\n",
        "from multiprocessing import Pool\n",
        "from multiprocessing import Process, Manager\n",
        "import datetime\n",
        "import xml.etree.ElementTree as ET\n",
        "import json\n",
        "import re\n",
        "import fnmatch\n",
        "import random\n",
        "import shutil\n",
        "\n",
        "from PIL import Image\n",
        "import pandas as pd\n",
        "import numpy as np\n",
        "import matplotlib.pyplot as plt\n",
        "from matplotlib.patches import Rectangle\n",
        "from tqdm import tqdm\n",
        "from pycococreatortools import pycococreatortools"
      ],
      "execution_count": 3,
      "outputs": []
    },
    {
      "cell_type": "code",
      "metadata": {
        "id": "w81d_HE0tP4W",
        "colab_type": "code",
        "colab": {
          "base_uri": "https://localhost:8080/",
          "height": 151
        },
        "outputId": "630bd778-4a60-4309-a86f-2c81bbe2644c"
      },
      "source": [
        "!unzip pycococreatortools.zip"
      ],
      "execution_count": 2,
      "outputs": [
        {
          "output_type": "stream",
          "text": [
            "Archive:  pycococreatortools.zip\n",
            "   creating: pycococreatortools/.ipynb_checkpoints/\n",
            "  inflating: pycococreatortools/.ipynb_checkpoints/pycococreatortools-checkpoint.py  \n",
            " extracting: pycococreatortools/__init__.py  \n",
            "   creating: pycococreatortools/__pycache__/\n",
            "  inflating: pycococreatortools/__pycache__/__init__.cpython-37.pyc  \n",
            "  inflating: pycococreatortools/__pycache__/pycococreatortools.cpython-37.pyc  \n",
            "  inflating: pycococreatortools/pycococreatortools.py  \n"
          ],
          "name": "stdout"
        }
      ]
    },
    {
      "cell_type": "code",
      "metadata": {
        "id": "5sikSCOStfpc",
        "colab_type": "code",
        "colab": {
          "base_uri": "https://localhost:8080/",
          "height": 1000
        },
        "outputId": "0da1e47f-2a0d-403b-81b3-26f1e3c307e9"
      },
      "source": [
        "#!unzip Training.zip\n",
        "#!unzip Val.zip\n",
        "!unzip Test.zip\n"
      ],
      "execution_count": 6,
      "outputs": [
        {
          "output_type": "stream",
          "text": [
            "Archive:  Test.zip\n",
            "  inflating: Test/Aerialimg0170.jpg  \n",
            "  inflating: Test/Aerialimg0171.jpg  \n",
            "  inflating: Test/Aerialimg0172.jpg  \n",
            "  inflating: Test/Aerialimg0173.jpg  \n",
            "  inflating: Test/Aerialimg0174.jpg  \n",
            "  inflating: Test/Aerialimg0175.jpg  \n",
            "  inflating: Test/Aerialimg0176.jpg  \n",
            "  inflating: Test/Aerialimg0177.jpg  \n",
            "  inflating: Test/Aerialimg0178.jpg  \n",
            "  inflating: Test/Aerialimg0179.jpg  \n",
            "  inflating: Test/Aerialimg0180.jpg  \n",
            "  inflating: Test/Aerialimg0181.jpg  \n",
            "  inflating: Test/Aerialimg0182.jpg  \n",
            "  inflating: Test/Aerialimg0183.jpg  \n",
            "  inflating: Test/Aerialimg0184.jpg  \n",
            "  inflating: Test/Aerialimg0185.jpg  \n",
            "  inflating: Test/Aerialimg0186.jpg  \n",
            "  inflating: Test/Aerialimg0187.jpg  \n",
            "  inflating: Test/Aerialimg0188.jpg  \n",
            "  inflating: Test/Aerialimg0189.jpg  \n",
            "  inflating: Test/Aerialimg0190.jpg  \n",
            "  inflating: Test/Aerialimg0191.jpg  \n",
            "  inflating: Test/Aerialimg0192.jpg  \n",
            "  inflating: Test/Aerialimg0193.jpg  \n",
            "  inflating: Test/Aerialimg0194.jpg  \n",
            "  inflating: Test/Aerialimg0195.jpg  \n",
            "  inflating: Test/Aerialimg0196.jpg  \n",
            "  inflating: Test/Aerialimg0197.jpg  \n",
            "  inflating: Test/Aerialimg0198.jpg  \n",
            "  inflating: Test/Aerialimg0199.jpg  \n",
            "  inflating: Test/Plane001.jpg       \n",
            "  inflating: Test/Plane002.jpg       \n",
            "  inflating: Test/Plane003.jpg       \n",
            "  inflating: Test/Plane004.jpg       \n",
            "  inflating: Test/Plane005.jpg       \n",
            "  inflating: Test/Plane006.jpg       \n",
            "  inflating: Test/Plane007.jpg       \n",
            "  inflating: Test/Plane008.jpg       \n",
            "  inflating: Test/Plane009.jpg       \n",
            "  inflating: Test/Plane010.jpg       \n",
            "  inflating: Test/Plane011.jpg       \n",
            "  inflating: Test/Plane012.jpg       \n",
            "  inflating: Test/Plane013.jpg       \n",
            "  inflating: Test/Plane014.jpg       \n",
            "  inflating: Test/Plane015.jpg       \n",
            "  inflating: Test/Plane016.jpg       \n",
            "  inflating: Test/Plane017.jpg       \n",
            "  inflating: Test/Plane018.jpg       \n",
            "  inflating: Test/Plane019.jpg       \n",
            "  inflating: Test/Plane020.jpg       \n",
            "  inflating: Test/Plane021.jpg       \n",
            "  inflating: Test/Plane022.jpg       \n",
            "  inflating: Test/Plane023.jpg       \n",
            "  inflating: Test/Plane024.jpg       \n",
            "  inflating: Test/Plane025.jpg       \n",
            "  inflating: Test/Plane026.jpg       \n",
            "  inflating: Test/Plane027.jpg       \n",
            "  inflating: Test/Plane028.jpg       \n",
            "  inflating: Test/Plane029.jpg       \n",
            "  inflating: Test/Plane030.jpg       \n",
            "  inflating: Test/Ship001.jpg        \n",
            "  inflating: Test/Ship002.jpg        \n",
            "  inflating: Test/Ship003.jpg        \n",
            "  inflating: Test/Ship004.jpg        \n",
            "  inflating: Test/Ship005.jpg        \n",
            "  inflating: Test/Ship006.jpg        \n",
            "  inflating: Test/Ship007.jpg        \n",
            "  inflating: Test/Ship008.jpg        \n",
            "  inflating: Test/Ship009.jpg        \n",
            "  inflating: Test/Ship010.jpg        \n",
            "  inflating: Test/Ship011.jpg        \n",
            "  inflating: Test/Ship012.jpg        \n",
            "  inflating: Test/Ship013.jpg        \n",
            "  inflating: Test/Ship014.jpg        \n",
            "  inflating: Test/Ship015.jpg        \n",
            "  inflating: Test/Ship016.jpg        \n",
            "  inflating: Test/Ship017.jpg        \n",
            "  inflating: Test/Ship018.jpg        \n",
            "  inflating: Test/Ship019.jpg        \n",
            "  inflating: Test/Ship020.jpg        \n",
            "  inflating: Test/Ship021.jpg        \n",
            "  inflating: Test/Ship022.jpg        \n",
            "  inflating: Test/Ship023.jpg        \n",
            "  inflating: Test/Ship024.jpg        \n",
            "  inflating: Test/Ship025.jpg        \n",
            "  inflating: Test/Ship026.jpg        \n",
            "  inflating: Test/Ship027.jpg        \n",
            "  inflating: Test/Ship028.jpg        \n",
            "  inflating: Test/Ship029.jpg        \n",
            "  inflating: Test/Ship030.jpg        \n",
            "  inflating: Test/Tank378.jpg        \n",
            "  inflating: Test/Tank427.jpg        \n",
            "  inflating: Test/Tank431.jpg        \n",
            "  inflating: Test/Tank444.jpg        \n",
            "  inflating: Test/Tank467.jpg        \n",
            "  inflating: Test/Tank486.jpg        \n",
            "  inflating: Test/Tank488.jpg        \n",
            "  inflating: Test/Tank505.jpg        \n",
            "  inflating: Test/Tank506.jpg        \n",
            "  inflating: Test/Tank519.jpg        \n",
            "  inflating: Test/Tank555.jpg        \n",
            "  inflating: Test/Tank629.jpg        \n",
            "  inflating: Test/Tank631.jpg        \n",
            "  inflating: Test/Tank663.jpg        \n",
            "  inflating: Test/Tank665.jpg        \n",
            "  inflating: Test/Tank680.jpg        \n",
            "  inflating: Test/Tank685.jpg        \n",
            "  inflating: Test/Tank690.jpg        \n",
            "  inflating: Test/Tank712.jpg        \n",
            "  inflating: Test/Tank719.jpg        \n",
            "  inflating: Test/Tank750.jpg        \n",
            "  inflating: Test/Tank777.jpg        \n",
            "  inflating: Test/Tank782.jpg        \n",
            "  inflating: Test/Tank794.jpg        \n",
            "  inflating: Test/Tank804.jpg        \n",
            "  inflating: Test/Tank806.jpg        \n",
            "  inflating: Test/Tank808.jpg        \n",
            "  inflating: Test/Tank815.jpg        \n",
            "  inflating: Test/Tank820.jpg        \n",
            "  inflating: Test/Tank825.jpg        \n",
            "  inflating: Test/Tank833.jpg        \n",
            "  inflating: Test/Tank834.jpg        \n",
            "  inflating: Test/Tank835.jpg        \n",
            "  inflating: Test/Tank838.jpg        \n",
            "  inflating: Test/Tank844.jpg        \n",
            "  inflating: Test/Tank847.jpg        \n",
            "  inflating: Test/Tank848.jpg        \n",
            "  inflating: Test/Tank862.jpg        \n",
            "  inflating: Test/Tank863.jpg        \n",
            "  inflating: Test/Tank864.jpg        \n",
            "  inflating: Test/Warplane001.jpg    \n",
            "  inflating: Test/Warplane002.jpg    \n",
            "  inflating: Test/Warplane003.jpg    \n",
            "  inflating: Test/Warplane004.jpg    \n",
            "  inflating: Test/Warplane005.jpg    \n",
            "  inflating: Test/Warplane006.jpg    \n",
            "  inflating: Test/Warplane007.jpg    \n",
            "  inflating: Test/Warplane008.jpg    \n",
            "  inflating: Test/Warplane009.jpg    \n",
            "  inflating: Test/Warplane010.jpg    \n",
            "  inflating: Test/Warplane011.jpg    \n",
            "  inflating: Test/Warplane012.jpg    \n",
            "  inflating: Test/Warplane013.jpg    \n",
            "  inflating: Test/Warplane014.jpg    \n",
            "  inflating: Test/Warplane015.jpg    \n",
            "  inflating: Test/Warplane016.jpg    \n",
            "  inflating: Test/Warplane017.jpg    \n",
            "  inflating: Test/Warplane018.jpg    \n",
            "  inflating: Test/Warplane019.jpg    \n",
            "  inflating: Test/Warplane020.jpg    \n",
            "  inflating: Test/Warplane021.jpg    \n",
            "  inflating: Test/Warplane022.jpg    \n",
            "  inflating: Test/Warplane023.jpg    \n",
            "  inflating: Test/Warplane024.jpg    \n",
            "  inflating: Test/Warplane025.jpg    \n",
            "  inflating: Test/Warplane026.jpg    \n",
            "  inflating: Test/Warplane027.jpg    \n",
            "  inflating: Test/Warplane028.jpg    \n",
            "  inflating: Test/Warplane029.jpg    \n",
            "  inflating: Test/Warplane030.jpg    \n",
            "  inflating: Test/Warplane031.jpg    \n",
            "  inflating: Test/Warplane032.jpg    \n",
            "  inflating: Test/Warplane033.jpg    \n",
            "  inflating: Test/Warplane034.jpg    \n",
            "  inflating: Test/Warplane035.jpg    \n",
            "  inflating: Test/Warplane036.jpg    \n",
            "  inflating: Test/Warplane037.jpg    \n",
            "  inflating: Test/Warplane038.jpg    \n",
            "  inflating: Test/Warplane039.jpg    \n",
            "  inflating: Test/Warplane040.jpg    \n",
            "  inflating: Test/Warship001.jpg     \n",
            "  inflating: Test/Warship002.jpg     \n",
            "  inflating: Test/Warship003.jpg     \n",
            "  inflating: Test/Warship004.jpg     \n",
            "  inflating: Test/Warship005.jpg     \n",
            "  inflating: Test/Warship006.jpg     \n",
            "  inflating: Test/Warship007.jpg     \n",
            "  inflating: Test/Warship008.jpg     \n",
            "  inflating: Test/Warship009.jpg     \n",
            "  inflating: Test/Warship010.jpg     \n",
            "  inflating: Test/Warship011.jpg     \n",
            "  inflating: Test/Warship012.jpg     \n",
            "  inflating: Test/Warship013.jpg     \n",
            "  inflating: Test/Warship014.jpg     \n",
            "  inflating: Test/Warship015.jpg     \n",
            "  inflating: Test/Warship016.jpg     \n",
            "  inflating: Test/Warship017.jpg     \n",
            "  inflating: Test/Warship018.jpg     \n",
            "  inflating: Test/Warship019.jpg     \n",
            "  inflating: Test/Warship020.jpg     \n",
            "  inflating: Test/Warship021.jpg     \n",
            "  inflating: Test/Warship022.jpg     \n",
            "  inflating: Test/Warship023.jpg     \n",
            "  inflating: Test/Warship024.jpg     \n",
            "  inflating: Test/Warship025.jpg     \n",
            "  inflating: Test/Warship026.jpg     \n",
            "  inflating: Test/Warship027.jpg     \n",
            "  inflating: Test/Warship028.jpg     \n",
            "  inflating: Test/Warship029.jpg     \n",
            "  inflating: Test/Warship030.jpg     \n"
          ],
          "name": "stdout"
        }
      ]
    },
    {
      "cell_type": "code",
      "metadata": {
        "id": "h5Tu24Rvd4d3",
        "colab_type": "code",
        "colab": {}
      },
      "source": [
        "Root_Path = '/content'"
      ],
      "execution_count": 7,
      "outputs": []
    },
    {
      "cell_type": "code",
      "metadata": {
        "id": "PtYmpo2ad4d5",
        "colab_type": "code",
        "colab": {}
      },
      "source": [
        "DIR_XML = Root_Path + '/data/xmls'\n",
        "DIR_SHAPES = Root_Path + '/data/shapes/'\n",
        "DIR_IMG = Root_Path + '/data/images/'\n",
        "DIR_ANN = Root_Path + '/data/annotations/'"
      ],
      "execution_count": 8,
      "outputs": []
    },
    {
      "cell_type": "code",
      "metadata": {
        "id": "epSm5Wsjd4d7",
        "colab_type": "code",
        "colab": {
          "base_uri": "https://localhost:8080/",
          "height": 34
        },
        "outputId": "bd38d59b-5302-4d3e-c8d8-c2eba54056f3"
      },
      "source": [
        "len(os.listdir(DIR_XML)) "
      ],
      "execution_count": 9,
      "outputs": [
        {
          "output_type": "execute_result",
          "data": {
            "text/plain": [
              "200"
            ]
          },
          "metadata": {
            "tags": []
          },
          "execution_count": 9
        }
      ]
    },
    {
      "cell_type": "code",
      "metadata": {
        "id": "LoQljOsYd4d-",
        "colab_type": "code",
        "colab": {}
      },
      "source": [
        "fnames_images = sorted(os.listdir(DIR_IMG))"
      ],
      "execution_count": 10,
      "outputs": []
    },
    {
      "cell_type": "markdown",
      "metadata": {
        "id": "TNVyGdp8d4eC",
        "colab_type": "text"
      },
      "source": [
        "## Creating Imageid Dict"
      ]
    },
    {
      "cell_type": "code",
      "metadata": {
        "id": "fRofLtccd4eD",
        "colab_type": "code",
        "colab": {}
      },
      "source": [
        "dict_imageid_to_fname = dict()"
      ],
      "execution_count": 12,
      "outputs": []
    },
    {
      "cell_type": "code",
      "metadata": {
        "id": "pXleMu_8d4eF",
        "colab_type": "code",
        "colab": {
          "base_uri": "https://localhost:8080/",
          "height": 34
        },
        "outputId": "7537c6bd-c927-4ed6-caec-53d554b1bf68"
      },
      "source": [
        "len(fnames_images)"
      ],
      "execution_count": 13,
      "outputs": [
        {
          "output_type": "execute_result",
          "data": {
            "text/plain": [
              "200"
            ]
          },
          "metadata": {
            "tags": []
          },
          "execution_count": 13
        }
      ]
    },
    {
      "cell_type": "code",
      "metadata": {
        "id": "EY_9PSodd4eG",
        "colab_type": "code",
        "colab": {}
      },
      "source": [
        "# i=132\n",
        "for i,fname in enumerate(fnames_images):\n",
        "    dict_imageid_to_fname[i] = fname"
      ],
      "execution_count": 14,
      "outputs": []
    },
    {
      "cell_type": "code",
      "metadata": {
        "id": "NBVwzA4Rd4eI",
        "colab_type": "code",
        "colab": {
          "base_uri": "https://localhost:8080/",
          "height": 1000
        },
        "outputId": "03eef724-3f62-4d4c-b511-73b2f1f669e6"
      },
      "source": [
        " dict_imageid_to_fname"
      ],
      "execution_count": 15,
      "outputs": [
        {
          "output_type": "execute_result",
          "data": {
            "text/plain": [
              "{0: 'Aerialimg0170.jpg',\n",
              " 1: 'Aerialimg0171.jpg',\n",
              " 2: 'Aerialimg0172.jpg',\n",
              " 3: 'Aerialimg0173.jpg',\n",
              " 4: 'Aerialimg0174.jpg',\n",
              " 5: 'Aerialimg0175.jpg',\n",
              " 6: 'Aerialimg0176.jpg',\n",
              " 7: 'Aerialimg0177.jpg',\n",
              " 8: 'Aerialimg0178.jpg',\n",
              " 9: 'Aerialimg0179.jpg',\n",
              " 10: 'Aerialimg0180.jpg',\n",
              " 11: 'Aerialimg0181.jpg',\n",
              " 12: 'Aerialimg0182.jpg',\n",
              " 13: 'Aerialimg0183.jpg',\n",
              " 14: 'Aerialimg0184.jpg',\n",
              " 15: 'Aerialimg0185.jpg',\n",
              " 16: 'Aerialimg0186.jpg',\n",
              " 17: 'Aerialimg0187.jpg',\n",
              " 18: 'Aerialimg0188.jpg',\n",
              " 19: 'Aerialimg0189.jpg',\n",
              " 20: 'Aerialimg0190.jpg',\n",
              " 21: 'Aerialimg0191.jpg',\n",
              " 22: 'Aerialimg0192.jpg',\n",
              " 23: 'Aerialimg0193.jpg',\n",
              " 24: 'Aerialimg0194.jpg',\n",
              " 25: 'Aerialimg0195.jpg',\n",
              " 26: 'Aerialimg0196.jpg',\n",
              " 27: 'Aerialimg0197.jpg',\n",
              " 28: 'Aerialimg0198.jpg',\n",
              " 29: 'Aerialimg0199.jpg',\n",
              " 30: 'Plane001.jpg',\n",
              " 31: 'Plane002.jpg',\n",
              " 32: 'Plane003.jpg',\n",
              " 33: 'Plane004.jpg',\n",
              " 34: 'Plane005.jpg',\n",
              " 35: 'Plane006.jpg',\n",
              " 36: 'Plane007.jpg',\n",
              " 37: 'Plane008.jpg',\n",
              " 38: 'Plane009.jpg',\n",
              " 39: 'Plane010.jpg',\n",
              " 40: 'Plane011.jpg',\n",
              " 41: 'Plane012.jpg',\n",
              " 42: 'Plane013.jpg',\n",
              " 43: 'Plane014.jpg',\n",
              " 44: 'Plane015.jpg',\n",
              " 45: 'Plane016.jpg',\n",
              " 46: 'Plane017.jpg',\n",
              " 47: 'Plane018.jpg',\n",
              " 48: 'Plane019.jpg',\n",
              " 49: 'Plane020.jpg',\n",
              " 50: 'Plane021.jpg',\n",
              " 51: 'Plane022.jpg',\n",
              " 52: 'Plane023.jpg',\n",
              " 53: 'Plane024.jpg',\n",
              " 54: 'Plane025.jpg',\n",
              " 55: 'Plane026.jpg',\n",
              " 56: 'Plane027.jpg',\n",
              " 57: 'Plane028.jpg',\n",
              " 58: 'Plane029.jpg',\n",
              " 59: 'Plane030.jpg',\n",
              " 60: 'Ship001.jpg',\n",
              " 61: 'Ship002.jpg',\n",
              " 62: 'Ship003.jpg',\n",
              " 63: 'Ship004.jpg',\n",
              " 64: 'Ship005.jpg',\n",
              " 65: 'Ship006.jpg',\n",
              " 66: 'Ship007.jpg',\n",
              " 67: 'Ship008.jpg',\n",
              " 68: 'Ship009.jpg',\n",
              " 69: 'Ship010.jpg',\n",
              " 70: 'Ship011.jpg',\n",
              " 71: 'Ship012.jpg',\n",
              " 72: 'Ship013.jpg',\n",
              " 73: 'Ship014.jpg',\n",
              " 74: 'Ship015.jpg',\n",
              " 75: 'Ship016.jpg',\n",
              " 76: 'Ship017.jpg',\n",
              " 77: 'Ship018.jpg',\n",
              " 78: 'Ship019.jpg',\n",
              " 79: 'Ship020.jpg',\n",
              " 80: 'Ship021.jpg',\n",
              " 81: 'Ship022.jpg',\n",
              " 82: 'Ship023.jpg',\n",
              " 83: 'Ship024.jpg',\n",
              " 84: 'Ship025.jpg',\n",
              " 85: 'Ship026.jpg',\n",
              " 86: 'Ship027.jpg',\n",
              " 87: 'Ship028.jpg',\n",
              " 88: 'Ship029.jpg',\n",
              " 89: 'Ship030.jpg',\n",
              " 90: 'Tank378.jpg',\n",
              " 91: 'Tank427.jpg',\n",
              " 92: 'Tank431.jpg',\n",
              " 93: 'Tank444.jpg',\n",
              " 94: 'Tank467.jpg',\n",
              " 95: 'Tank486.jpg',\n",
              " 96: 'Tank488.jpg',\n",
              " 97: 'Tank505.jpg',\n",
              " 98: 'Tank506.jpg',\n",
              " 99: 'Tank519.jpg',\n",
              " 100: 'Tank555.jpg',\n",
              " 101: 'Tank629.jpg',\n",
              " 102: 'Tank631.jpg',\n",
              " 103: 'Tank663.jpg',\n",
              " 104: 'Tank665.jpg',\n",
              " 105: 'Tank680.jpg',\n",
              " 106: 'Tank685.jpg',\n",
              " 107: 'Tank690.jpg',\n",
              " 108: 'Tank712.jpg',\n",
              " 109: 'Tank719.jpg',\n",
              " 110: 'Tank750.jpg',\n",
              " 111: 'Tank777.jpg',\n",
              " 112: 'Tank782.jpg',\n",
              " 113: 'Tank794.jpg',\n",
              " 114: 'Tank804.jpg',\n",
              " 115: 'Tank806.jpg',\n",
              " 116: 'Tank808.jpg',\n",
              " 117: 'Tank815.jpg',\n",
              " 118: 'Tank820.jpg',\n",
              " 119: 'Tank825.jpg',\n",
              " 120: 'Tank833.jpg',\n",
              " 121: 'Tank834.jpg',\n",
              " 122: 'Tank835.jpg',\n",
              " 123: 'Tank838.jpg',\n",
              " 124: 'Tank844.jpg',\n",
              " 125: 'Tank847.jpg',\n",
              " 126: 'Tank848.jpg',\n",
              " 127: 'Tank862.jpg',\n",
              " 128: 'Tank863.jpg',\n",
              " 129: 'Tank864.jpg',\n",
              " 130: 'Warplane001.jpg',\n",
              " 131: 'Warplane002.jpg',\n",
              " 132: 'Warplane003.jpg',\n",
              " 133: 'Warplane004.jpg',\n",
              " 134: 'Warplane005.jpg',\n",
              " 135: 'Warplane006.jpg',\n",
              " 136: 'Warplane007.jpg',\n",
              " 137: 'Warplane008.jpg',\n",
              " 138: 'Warplane009.jpg',\n",
              " 139: 'Warplane010.jpg',\n",
              " 140: 'Warplane011.jpg',\n",
              " 141: 'Warplane012.jpg',\n",
              " 142: 'Warplane013.jpg',\n",
              " 143: 'Warplane014.jpg',\n",
              " 144: 'Warplane015.jpg',\n",
              " 145: 'Warplane016.jpg',\n",
              " 146: 'Warplane017.jpg',\n",
              " 147: 'Warplane018.jpg',\n",
              " 148: 'Warplane019.jpg',\n",
              " 149: 'Warplane020.jpg',\n",
              " 150: 'Warplane021.jpg',\n",
              " 151: 'Warplane022.jpg',\n",
              " 152: 'Warplane023.jpg',\n",
              " 153: 'Warplane024.jpg',\n",
              " 154: 'Warplane025.jpg',\n",
              " 155: 'Warplane026.jpg',\n",
              " 156: 'Warplane027.jpg',\n",
              " 157: 'Warplane028.jpg',\n",
              " 158: 'Warplane029.jpg',\n",
              " 159: 'Warplane030.jpg',\n",
              " 160: 'Warplane031.jpg',\n",
              " 161: 'Warplane032.jpg',\n",
              " 162: 'Warplane033.jpg',\n",
              " 163: 'Warplane034.jpg',\n",
              " 164: 'Warplane035.jpg',\n",
              " 165: 'Warplane036.jpg',\n",
              " 166: 'Warplane037.jpg',\n",
              " 167: 'Warplane038.jpg',\n",
              " 168: 'Warplane039.jpg',\n",
              " 169: 'Warplane040.jpg',\n",
              " 170: 'Warship001.jpg',\n",
              " 171: 'Warship002.jpg',\n",
              " 172: 'Warship003.jpg',\n",
              " 173: 'Warship004.jpg',\n",
              " 174: 'Warship005.jpg',\n",
              " 175: 'Warship006.jpg',\n",
              " 176: 'Warship007.jpg',\n",
              " 177: 'Warship008.jpg',\n",
              " 178: 'Warship009.jpg',\n",
              " 179: 'Warship010.jpg',\n",
              " 180: 'Warship011.jpg',\n",
              " 181: 'Warship012.jpg',\n",
              " 182: 'Warship013.jpg',\n",
              " 183: 'Warship014.jpg',\n",
              " 184: 'Warship015.jpg',\n",
              " 185: 'Warship016.jpg',\n",
              " 186: 'Warship017.jpg',\n",
              " 187: 'Warship018.jpg',\n",
              " 188: 'Warship019.jpg',\n",
              " 189: 'Warship020.jpg',\n",
              " 190: 'Warship021.jpg',\n",
              " 191: 'Warship022.jpg',\n",
              " 192: 'Warship023.jpg',\n",
              " 193: 'Warship024.jpg',\n",
              " 194: 'Warship025.jpg',\n",
              " 195: 'Warship026.jpg',\n",
              " 196: 'Warship027.jpg',\n",
              " 197: 'Warship028.jpg',\n",
              " 198: 'Warship029.jpg',\n",
              " 199: 'Warship030.jpg'}"
            ]
          },
          "metadata": {
            "tags": []
          },
          "execution_count": 15
        }
      ]
    },
    {
      "cell_type": "code",
      "metadata": {
        "id": "sCJY8ZwXd4eK",
        "colab_type": "code",
        "colab": {
          "base_uri": "https://localhost:8080/",
          "height": 35
        },
        "outputId": "f65cd6cc-abc1-490e-d940-d58a1eae4ed4"
      },
      "source": [
        "os.getcwd()"
      ],
      "execution_count": 16,
      "outputs": [
        {
          "output_type": "execute_result",
          "data": {
            "application/vnd.google.colaboratory.intrinsic+json": {
              "type": "string"
            },
            "text/plain": [
              "'/content'"
            ]
          },
          "metadata": {
            "tags": []
          },
          "execution_count": 16
        }
      ]
    },
    {
      "cell_type": "code",
      "metadata": {
        "id": "oMXEvWMfd4eO",
        "colab_type": "code",
        "colab": {}
      },
      "source": [
        "with open('/content/data/pickle_files/dict_imageid_to_fname1.pkl', 'wb') as file:  \n",
        "    pickle.dump(dict_imageid_to_fname, file)"
      ],
      "execution_count": 18,
      "outputs": []
    },
    {
      "cell_type": "code",
      "metadata": {
        "id": "QYctFt2Kd4eQ",
        "colab_type": "code",
        "colab": {}
      },
      "source": [
        "with open('/content/data/pickle_files/dict_imageid_to_fname1.pkl', 'rb') as f:\n",
        "    dict_imageid_to_fname = pickle.load(f)"
      ],
      "execution_count": 19,
      "outputs": []
    },
    {
      "cell_type": "code",
      "metadata": {
        "id": "DFMK9VHMd4eS",
        "colab_type": "code",
        "colab": {
          "base_uri": "https://localhost:8080/",
          "height": 34
        },
        "outputId": "87fce96b-4194-411a-8ddf-889deb332718"
      },
      "source": [
        "list(dict_imageid_to_fname.items())[0]"
      ],
      "execution_count": 20,
      "outputs": [
        {
          "output_type": "execute_result",
          "data": {
            "text/plain": [
              "(0, 'Aerialimg0170.jpg')"
            ]
          },
          "metadata": {
            "tags": []
          },
          "execution_count": 20
        }
      ]
    },
    {
      "cell_type": "code",
      "metadata": {
        "id": "drBSqDLRd4eT",
        "colab_type": "code",
        "colab": {}
      },
      "source": [
        "dict_fname_to_imageid = dict()"
      ],
      "execution_count": 21,
      "outputs": []
    },
    {
      "cell_type": "code",
      "metadata": {
        "id": "ZLkM_QGrd4eV",
        "colab_type": "code",
        "colab": {}
      },
      "source": [
        "for imageid,fname in dict_imageid_to_fname.items():\n",
        "    dict_fname_to_imageid[fname] = imageid"
      ],
      "execution_count": 22,
      "outputs": []
    },
    {
      "cell_type": "code",
      "metadata": {
        "id": "1kp3A_3Ud4ec",
        "colab_type": "code",
        "colab": {}
      },
      "source": [
        "with open('/content/data/pickle_files/dict_imageid_to_fname1.pkl', 'wb') as f:\n",
        "    pickle.dump(dict_fname_to_imageid, f)\n",
        "    "
      ],
      "execution_count": 23,
      "outputs": []
    },
    {
      "cell_type": "code",
      "metadata": {
        "id": "pfxXGXRWd4ee",
        "colab_type": "code",
        "colab": {}
      },
      "source": [
        "with open('/content/data/pickle_files/dict_imageid_to_fname1.pkl', 'rb') as f:\n",
        "    dict_fname_to_imageid = pickle.load(f)"
      ],
      "execution_count": 24,
      "outputs": []
    },
    {
      "cell_type": "code",
      "metadata": {
        "id": "YipzDUizd4eh",
        "colab_type": "code",
        "colab": {
          "base_uri": "https://localhost:8080/",
          "height": 34
        },
        "outputId": "75081ccc-3079-4759-d771-7626518623c4"
      },
      "source": [
        "list(dict_fname_to_imageid.items())[4]"
      ],
      "execution_count": 25,
      "outputs": [
        {
          "output_type": "execute_result",
          "data": {
            "text/plain": [
              "('Aerialimg0174.jpg', 4)"
            ]
          },
          "metadata": {
            "tags": []
          },
          "execution_count": 25
        }
      ]
    },
    {
      "cell_type": "markdown",
      "metadata": {
        "id": "yh-wOZQod4em",
        "colab_type": "text"
      },
      "source": [
        "## Creating binary masks"
      ]
    },
    {
      "cell_type": "code",
      "metadata": {
        "id": "ZidzrqDKd4em",
        "colab_type": "code",
        "colab": {}
      },
      "source": [
        "def get_xml_filename_using_imageid(imageid):\n",
        "    fname = dict_imageid_to_fname[imageid]\n",
        "    fname = fname[:-4]\n",
        "    return fname + '.xml'"
      ],
      "execution_count": 26,
      "outputs": []
    },
    {
      "cell_type": "code",
      "metadata": {
        "id": "s3jBSWwCd4ep",
        "colab_type": "code",
        "colab": {}
      },
      "source": [
        "def get_xml_filepath_using_imageid(imageid):\n",
        "    fname = get_xml_filename_using_imageid(imageid)\n",
        "    path = os.path.join(DIR_XML, fname)\n",
        "    return path"
      ],
      "execution_count": 27,
      "outputs": []
    },
    {
      "cell_type": "code",
      "metadata": {
        "id": "gkE0fTmNd4eq",
        "colab_type": "code",
        "colab": {}
      },
      "source": [
        "def get_image_filepath_using_imageid(imageid):\n",
        "    fname = str(imageid) + '.jpg'\n",
        "    path = os.path.join(DIR_SHAPES, fname)\n",
        "    return path"
      ],
      "execution_count": 28,
      "outputs": []
    },
    {
      "cell_type": "code",
      "metadata": {
        "id": "l_xcQs78d4es",
        "colab_type": "code",
        "colab": {
          "base_uri": "https://localhost:8080/",
          "height": 35
        },
        "outputId": "1db3ee68-b2f0-401d-c7f6-b0ae8d7acdbc"
      },
      "source": [
        "get_xml_filename_using_imageid(1)"
      ],
      "execution_count": 29,
      "outputs": [
        {
          "output_type": "execute_result",
          "data": {
            "application/vnd.google.colaboratory.intrinsic+json": {
              "type": "string"
            },
            "text/plain": [
              "'Aerialimg0171.xml'"
            ]
          },
          "metadata": {
            "tags": []
          },
          "execution_count": 29
        }
      ]
    },
    {
      "cell_type": "code",
      "metadata": {
        "id": "nbq0kRmGd4et",
        "colab_type": "code",
        "colab": {
          "base_uri": "https://localhost:8080/",
          "height": 35
        },
        "outputId": "8e4e9aff-f39b-42a0-a529-affa95f39da7"
      },
      "source": [
        "get_xml_filepath_using_imageid(1)"
      ],
      "execution_count": 30,
      "outputs": [
        {
          "output_type": "execute_result",
          "data": {
            "application/vnd.google.colaboratory.intrinsic+json": {
              "type": "string"
            },
            "text/plain": [
              "'/content/data/xmls/Aerialimg0171.xml'"
            ]
          },
          "metadata": {
            "tags": []
          },
          "execution_count": 30
        }
      ]
    },
    {
      "cell_type": "code",
      "metadata": {
        "id": "eFxAXcoKd4ew",
        "colab_type": "code",
        "colab": {
          "base_uri": "https://localhost:8080/",
          "height": 34
        },
        "outputId": "c910b483-7fd7-4ee9-aa99-f9403601960c"
      },
      "source": [
        "fname = 'Aerialimg0171.xml'\n",
        "dict_fname_to_imageid[fname[:-4]+'.jpg']"
      ],
      "execution_count": 31,
      "outputs": [
        {
          "output_type": "execute_result",
          "data": {
            "text/plain": [
              "1"
            ]
          },
          "metadata": {
            "tags": []
          },
          "execution_count": 31
        }
      ]
    },
    {
      "cell_type": "code",
      "metadata": {
        "id": "oZ3ry3xbd4ex",
        "colab_type": "code",
        "colab": {
          "base_uri": "https://localhost:8080/",
          "height": 35
        },
        "outputId": "a9c5fff0-cbee-41e7-c65b-ded8eabb8921"
      },
      "source": [
        "path_xml = get_xml_filepath_using_imageid(1)\n",
        "path_xml"
      ],
      "execution_count": 32,
      "outputs": [
        {
          "output_type": "execute_result",
          "data": {
            "application/vnd.google.colaboratory.intrinsic+json": {
              "type": "string"
            },
            "text/plain": [
              "'/content/data/xmls/Aerialimg0171.xml'"
            ]
          },
          "metadata": {
            "tags": []
          },
          "execution_count": 32
        }
      ]
    },
    {
      "cell_type": "code",
      "metadata": {
        "id": "CA9V9kbHd4ez",
        "colab_type": "code",
        "colab": {
          "base_uri": "https://localhost:8080/",
          "height": 34
        },
        "outputId": "53890d4c-fd43-4fbb-b995-a2a1c956db9f"
      },
      "source": [
        "tree = ET.parse(path_xml)\n",
        "root = ET.parse(path_xml).getroot()\n",
        "root.findall('./object/[name=\"MilitaryJeep\"]')"
      ],
      "execution_count": 33,
      "outputs": [
        {
          "output_type": "execute_result",
          "data": {
            "text/plain": [
              "[<Element 'object' at 0x7fb4d282a638>]"
            ]
          },
          "metadata": {
            "tags": []
          },
          "execution_count": 33
        }
      ]
    },
    {
      "cell_type": "code",
      "metadata": {
        "id": "i-GN9oL5d4e0",
        "colab_type": "code",
        "colab": {
          "base_uri": "https://localhost:8080/",
          "height": 35
        },
        "outputId": "faa183be-292c-4d31-8a7c-f801c8c8aabd"
      },
      "source": [
        "os.listdir(DIR_XML)[1]"
      ],
      "execution_count": 34,
      "outputs": [
        {
          "output_type": "execute_result",
          "data": {
            "application/vnd.google.colaboratory.intrinsic+json": {
              "type": "string"
            },
            "text/plain": [
              "'Plane008.xml'"
            ]
          },
          "metadata": {
            "tags": []
          },
          "execution_count": 34
        }
      ]
    },
    {
      "cell_type": "code",
      "metadata": {
        "id": "pHF5DGtmd4e7",
        "colab_type": "code",
        "colab": {
          "base_uri": "https://localhost:8080/",
          "height": 34
        },
        "outputId": "ee6d88e4-479f-48df-d49a-e54546b1bf51"
      },
      "source": [
        "len(os.listdir(DIR_ANN))"
      ],
      "execution_count": 36,
      "outputs": [
        {
          "output_type": "execute_result",
          "data": {
            "text/plain": [
              "0"
            ]
          },
          "metadata": {
            "tags": []
          },
          "execution_count": 36
        }
      ]
    },
    {
      "cell_type": "code",
      "metadata": {
        "scrolled": true,
        "id": "TR6d6T3Jd4e9",
        "colab_type": "code",
        "colab": {
          "base_uri": "https://localhost:8080/",
          "height": 1000
        },
        "outputId": "676554ef-ae86-477f-a977-999bd539139e"
      },
      "source": [
        "invalid = []\n",
        "for fname in tqdm(os.listdir(DIR_XML)):\n",
        "    try:\n",
        "        imageid = dict_fname_to_imageid[fname[:-4]+'.jpg']\n",
        "        path_image = os.path.join(DIR_IMG, fname[:-4]+'.jpg')\n",
        "        print(path_image)\n",
        "        path_xml = get_xml_filepath_using_imageid(imageid)\n",
        "        print(path_xml)\n",
        "        tree = ET.parse(path_xml)\n",
        "        root = tree.getroot()    \n",
        "        obj_1 = root.findall(\"./object/[name='Warplane']/bndbox\")\n",
        "        obj_2 = root.findall(\"./object/[name='Plane']/bndbox\")\n",
        "        obj_3 = root.findall(\"./object/[name='Tank']/bndbox\")\n",
        "        obj_4 = root.findall(\"./object/[name='Warship']/bndbox\")\n",
        "        obj_5 = root.findall(\"./object/[name='Ship']/bndbox\")\n",
        "        obj_6 = root.findall(\"./object/[name='Person']/bndbox\")\n",
        "        obj_7 = root.findall(\"./object/[name='MilitaryTruck']/bndbox\")\n",
        "        obj_8 = root.findall(\"./object/[name='MilitaryJeep']/bndbox\")\n",
        "        image = plt.imread(path_image)\n",
        "        shape_image = image.shape\n",
        "        annotation_id = 0        \n",
        "            \n",
        "        if obj_1:\n",
        "            for obj in obj_1:\n",
        "                x1, y1, x2, y2 = [int(i.text) for i in obj]\n",
        "                mask = np.zeros((shape_image[0], shape_image[1], 3))\n",
        "                mask_plus = np.ones((y2-y1, x2-x1,3))\n",
        "                mask[y1:y2,x1:x2,:] = mask_plus\n",
        "                path_bin = \"_\".join([str(imageid), \"Warplane\", str(annotation_id)]) + '.jpg'\n",
        "                path_bin = os.path.join(DIR_ANN, path_bin)\n",
        "                plt.imsave(path_bin, mask)\n",
        "                annotation_id+=1\n",
        "            \n",
        "        if obj_2:\n",
        "            for obj in obj_2:\n",
        "                x1, y1, x2, y2 = [int(i.text) for i in obj]\n",
        "                mask = np.zeros((shape_image[0], shape_image[1], 3))\n",
        "                mask_plus = np.ones((y2-y1, x2-x1,3))\n",
        "                mask[y1:y2,x1:x2,:] = mask_plus\n",
        "                path_bin = \"_\".join([str(imageid), \"Plane\", str(annotation_id)]) + '.jpg'\n",
        "                path_bin = os.path.join(DIR_ANN, path_bin)\n",
        "                plt.imsave(path_bin, mask)\n",
        "                annotation_id+=1\n",
        "            \n",
        "        if obj_3:\n",
        "            for obj in obj_3:\n",
        "                x1, y1, x2, y2 = [int(i.text) for i in obj]\n",
        "                mask = np.zeros((shape_image[0], shape_image[1], 3))\n",
        "                mask_plus = np.ones((y2-y1, x2-x1,3))\n",
        "                mask[y1:y2,x1:x2,:] = mask_plus\n",
        "                path_bin = \"_\".join([str(imageid), \"Tank\", str(annotation_id)]) + '.jpg'\n",
        "                path_bin = os.path.join(DIR_ANN, path_bin)\n",
        "                plt.imsave(path_bin, mask)\n",
        "                annotation_id+=1\n",
        "              \n",
        "        if obj_4:\n",
        "            for obj in obj_4:\n",
        "                x1, y1, x2, y2 = [int(i.text) for i in obj]\n",
        "                mask = np.zeros((shape_image[0], shape_image[1], 3))\n",
        "                mask_plus = np.ones((y2-y1, x2-x1,3))\n",
        "                mask[y1:y2,x1:x2,:] = mask_plus\n",
        "                path_bin = \"_\".join([str(imageid), \"Warship\", str(annotation_id)]) + '.jpg'\n",
        "                path_bin = os.path.join(DIR_ANN, path_bin)\n",
        "                plt.imsave(path_bin, mask)\n",
        "                annotation_id+=1\n",
        "            \n",
        "        if obj_5:\n",
        "            for obj in obj_5:\n",
        "                x1, y1, x2, y2 = [int(i.text) for i in obj]\n",
        "                mask = np.zeros((shape_image[0], shape_image[1], 3))\n",
        "                mask_plus = np.ones((y2-y1, x2-x1,3))\n",
        "                mask[y1:y2,x1:x2,:] = mask_plus\n",
        "                path_bin = \"_\".join([str(imageid), \"Ship\", str(annotation_id)]) + '.jpg'\n",
        "                path_bin = os.path.join(DIR_ANN, path_bin)\n",
        "                plt.imsave(path_bin, mask)\n",
        "                annotation_id+=1\n",
        "            \n",
        "        if obj_6:\n",
        "            for obj in obj_6:\n",
        "                x1, y1, x2, y2 = [int(i.text) for i in obj]\n",
        "                mask = np.zeros((shape_image[0], shape_image[1], 3))\n",
        "                mask_plus = np.ones((y2-y1, x2-x1,3))\n",
        "                mask[y1:y2,x1:x2,:] = mask_plus\n",
        "                path_bin = \"_\".join([str(imageid), \"Person\", str(annotation_id)]) + '.jpg'\n",
        "                path_bin = os.path.join(DIR_ANN, path_bin)\n",
        "                plt.imsave(path_bin, mask)\n",
        "                annotation_id+=1\n",
        "            \n",
        "        if obj_7:\n",
        "            for obj in obj_7:\n",
        "                x1, y1, x2, y2 = [int(i.text) for i in obj]\n",
        "                mask = np.zeros((shape_image[0], shape_image[1], 3))\n",
        "                mask_plus = np.ones((y2-y1, x2-x1,3))\n",
        "                mask[y1:y2,x1:x2,:] = mask_plus\n",
        "                path_bin = \"_\".join([str(imageid), \"MilitaryTruck\", str(annotation_id)]) + '.jpg'\n",
        "                path_bin = os.path.join(DIR_ANN, path_bin)\n",
        "                plt.imsave(path_bin, mask)\n",
        "                annotation_id+=1\n",
        "        \n",
        "        if obj_8:\n",
        "            for obj in obj_8:\n",
        "                x1, y1, x2, y2 = [int(i.text) for i in obj]\n",
        "                mask = np.zeros((shape_image[0], shape_image[1], 3))\n",
        "                mask_plus = np.ones((y2-y1, x2-x1,3))\n",
        "                mask[y1:y2,x1:x2,:] = mask_plus\n",
        "                path_bin = \"_\".join([str(imageid), \"MilitaryJeep\", str(annotation_id)]) + '.jpg'\n",
        "                path_bin = os.path.join(DIR_ANN, path_bin)\n",
        "                plt.imsave(path_bin, mask)\n",
        "                annotation_id+=1\n",
        "            \n",
        "        path_src = os.path.join(DIR_IMG, fname[:-4]+'.jpg')\n",
        "        path_dest = os.path.join(DIR_SHAPES, str(imageid) + '.jpg')\n",
        "        shutil.copy(path_src, path_dest)\n",
        "    except Exception as e:\n",
        "#         print(e)\n",
        "        invalid.append([path_image, path_xml])"
      ],
      "execution_count": 37,
      "outputs": [
        {
          "output_type": "stream",
          "text": [
            "  0%|          | 1/200 [00:00<00:20,  9.72it/s]"
          ],
          "name": "stderr"
        },
        {
          "output_type": "stream",
          "text": [
            "/content/data/images/Warship016.jpg\n",
            "/content/data/xmls/Warship016.xml\n",
            "/content/data/images/Plane008.jpg\n",
            "/content/data/xmls/Plane008.xml\n",
            "/content/data/images/Plane001.jpg\n",
            "/content/data/xmls/Plane001.xml\n",
            "/content/data/images/Warplane022.jpg\n",
            "/content/data/xmls/Warplane022.xml\n",
            "/content/data/images/Tank808.jpg\n",
            "/content/data/xmls/Tank808.xml\n"
          ],
          "name": "stdout"
        },
        {
          "output_type": "stream",
          "text": [
            "  6%|▌         | 11/200 [00:00<00:12, 15.70it/s]"
          ],
          "name": "stderr"
        },
        {
          "output_type": "stream",
          "text": [
            "/content/data/images/Ship015.jpg\n",
            "/content/data/xmls/Ship015.xml\n",
            "/content/data/images/Plane016.jpg\n",
            "/content/data/xmls/Plane016.xml\n",
            "/content/data/images/Ship018.jpg\n",
            "/content/data/xmls/Ship018.xml\n",
            "/content/data/images/Warship021.jpg\n",
            "/content/data/xmls/Warship021.xml\n",
            "/content/data/images/Plane020.jpg\n",
            "/content/data/xmls/Plane020.xml\n",
            "/content/data/images/Tank555.jpg\n",
            "/content/data/xmls/Tank555.xml\n",
            "/content/data/images/Warplane036.jpg\n",
            "/content/data/xmls/Warplane036.xml\n",
            "/content/data/images/Warship005.jpg\n",
            "/content/data/xmls/Warship005.xml\n",
            "/content/data/images/Plane004.jpg\n",
            "/content/data/xmls/Plane004.xml\n",
            "/content/data/images/Aerialimg0195.jpg\n",
            "/content/data/xmls/Aerialimg0195.xml\n"
          ],
          "name": "stdout"
        },
        {
          "output_type": "stream",
          "text": [
            "  9%|▉         | 18/200 [00:00<00:09, 19.49it/s]"
          ],
          "name": "stderr"
        },
        {
          "output_type": "stream",
          "text": [
            "/content/data/images/Tank665.jpg\n",
            "/content/data/xmls/Tank665.xml\n",
            "/content/data/images/Aerialimg0182.jpg\n",
            "/content/data/xmls/Aerialimg0182.xml\n",
            "/content/data/images/Warplane025.jpg\n",
            "/content/data/xmls/Warplane025.xml\n",
            "/content/data/images/Tank431.jpg\n",
            "/content/data/xmls/Tank431.xml\n",
            "/content/data/images/Aerialimg0190.jpg\n",
            "/content/data/xmls/Aerialimg0190.xml\n"
          ],
          "name": "stdout"
        },
        {
          "output_type": "stream",
          "text": [
            " 12%|█▎        | 25/200 [00:00<00:08, 20.93it/s]"
          ],
          "name": "stderr"
        },
        {
          "output_type": "stream",
          "text": [
            "/content/data/images/Warship011.jpg\n",
            "/content/data/xmls/Warship011.xml\n",
            "/content/data/images/Warship006.jpg\n",
            "/content/data/xmls/Warship006.xml\n",
            "/content/data/images/Tank863.jpg\n",
            "/content/data/xmls/Tank863.xml\n",
            "/content/data/images/Warship026.jpg\n",
            "/content/data/xmls/Warship026.xml\n",
            "/content/data/images/Aerialimg0192.jpg\n",
            "/content/data/xmls/Aerialimg0192.xml\n",
            "/content/data/images/Plane025.jpg\n",
            "/content/data/xmls/Plane025.xml\n"
          ],
          "name": "stdout"
        },
        {
          "output_type": "stream",
          "text": [
            "\r 15%|█▌        | 30/200 [00:01<00:06, 25.30it/s]"
          ],
          "name": "stderr"
        },
        {
          "output_type": "stream",
          "text": [
            "/content/data/images/Warship010.jpg\n",
            "/content/data/xmls/Warship010.xml\n",
            "/content/data/images/Warship017.jpg\n",
            "/content/data/xmls/Warship017.xml\n",
            "/content/data/images/Ship012.jpg\n",
            "/content/data/xmls/Ship012.xml\n",
            "/content/data/images/Ship013.jpg\n",
            "/content/data/xmls/Ship013.xml\n",
            "/content/data/images/Tank488.jpg\n",
            "/content/data/xmls/Tank488.xml\n"
          ],
          "name": "stdout"
        },
        {
          "output_type": "stream",
          "text": [
            "\r 17%|█▋        | 34/200 [00:01<00:07, 23.03it/s]"
          ],
          "name": "stderr"
        },
        {
          "output_type": "stream",
          "text": [
            "/content/data/images/Warplane028.jpg\n",
            "/content/data/xmls/Warplane028.xml\n",
            "/content/data/images/Warplane023.jpg\n",
            "/content/data/xmls/Warplane023.xml\n",
            "/content/data/images/Ship002.jpg\n",
            "/content/data/xmls/Ship002.xml\n",
            "/content/data/images/Ship001.jpg\n",
            "/content/data/xmls/Ship001.xml\n",
            "/content/data/images/Aerialimg0177.jpg\n",
            "/content/data/xmls/Aerialimg0177.xml\n",
            "/content/data/images/Ship028.jpg\n",
            "/content/data/xmls/Ship028.xml\n"
          ],
          "name": "stdout"
        },
        {
          "output_type": "stream",
          "text": [
            "\r 18%|█▊        | 37/200 [00:01<00:07, 23.06it/s]"
          ],
          "name": "stderr"
        },
        {
          "output_type": "stream",
          "text": [
            "/content/data/images/Aerialimg0197.jpg\n",
            "/content/data/xmls/Aerialimg0197.xml\n",
            "/content/data/images/Aerialimg0199.jpg\n",
            "/content/data/xmls/Aerialimg0199.xml\n",
            "/content/data/images/Warship020.jpg\n",
            "/content/data/xmls/Warship020.xml\n"
          ],
          "name": "stdout"
        },
        {
          "output_type": "stream",
          "text": [
            " 22%|██▏       | 43/200 [00:01<00:08, 18.65it/s]"
          ],
          "name": "stderr"
        },
        {
          "output_type": "stream",
          "text": [
            "/content/data/images/Aerialimg0179.jpg\n",
            "/content/data/xmls/Aerialimg0179.xml\n",
            "/content/data/images/Warplane035.jpg\n",
            "/content/data/xmls/Warplane035.xml\n",
            "/content/data/images/Tank506.jpg\n",
            "/content/data/xmls/Tank506.xml\n",
            "/content/data/images/Aerialimg0187.jpg\n",
            "/content/data/xmls/Aerialimg0187.xml\n"
          ],
          "name": "stdout"
        },
        {
          "output_type": "stream",
          "text": [
            " 24%|██▍       | 49/200 [00:02<00:07, 20.69it/s]"
          ],
          "name": "stderr"
        },
        {
          "output_type": "stream",
          "text": [
            "/content/data/images/Warship008.jpg\n",
            "/content/data/xmls/Warship008.xml\n",
            "/content/data/images/Warship007.jpg\n",
            "/content/data/xmls/Warship007.xml\n",
            "/content/data/images/Warplane009.jpg\n",
            "/content/data/xmls/Warplane009.xml\n",
            "/content/data/images/Aerialimg0170.jpg\n",
            "/content/data/xmls/Aerialimg0170.xml\n",
            "/content/data/images/Warship029.jpg\n",
            "/content/data/xmls/Warship029.xml\n",
            "/content/data/images/Ship019.jpg\n",
            "/content/data/xmls/Ship019.xml\n",
            "/content/data/images/Plane026.jpg\n",
            "/content/data/xmls/Plane026.xml\n"
          ],
          "name": "stdout"
        },
        {
          "output_type": "stream",
          "text": [
            "\r 26%|██▌       | 52/200 [00:02<00:06, 22.04it/s]"
          ],
          "name": "stderr"
        },
        {
          "output_type": "stream",
          "text": [
            "/content/data/images/Warship027.jpg\n",
            "/content/data/xmls/Warship027.xml\n",
            "/content/data/images/Aerialimg0174.jpg\n",
            "/content/data/xmls/Aerialimg0174.xml\n",
            "/content/data/images/Warplane031.jpg\n",
            "/content/data/xmls/Warplane031.xml\n"
          ],
          "name": "stdout"
        },
        {
          "output_type": "stream",
          "text": [
            " 30%|███       | 60/200 [00:02<00:06, 22.06it/s]"
          ],
          "name": "stderr"
        },
        {
          "output_type": "stream",
          "text": [
            "/content/data/images/Tank378.jpg\n",
            "/content/data/xmls/Tank378.xml\n",
            "/content/data/images/Tank864.jpg\n",
            "/content/data/xmls/Tank864.xml\n",
            "/content/data/images/Warplane021.jpg\n",
            "/content/data/xmls/Warplane021.xml\n",
            "/content/data/images/Warship022.jpg\n",
            "/content/data/xmls/Warship022.xml\n",
            "/content/data/images/Warplane030.jpg\n",
            "/content/data/xmls/Warplane030.xml\n",
            "/content/data/images/Tank486.jpg\n",
            "/content/data/xmls/Tank486.xml\n",
            "/content/data/images/Plane024.jpg\n",
            "/content/data/xmls/Plane024.xml\n",
            "/content/data/images/Tank848.jpg\n",
            "/content/data/xmls/Tank848.xml\n",
            "/content/data/images/Plane027.jpg\n",
            "/content/data/xmls/Plane027.xml\n"
          ],
          "name": "stdout"
        },
        {
          "output_type": "stream",
          "text": [
            " 36%|███▌      | 71/200 [00:02<00:04, 31.50it/s]"
          ],
          "name": "stderr"
        },
        {
          "output_type": "stream",
          "text": [
            "/content/data/images/Tank685.jpg\n",
            "/content/data/xmls/Tank685.xml\n",
            "/content/data/images/Warship014.jpg\n",
            "/content/data/xmls/Warship014.xml\n",
            "/content/data/images/Warplane018.jpg\n",
            "/content/data/xmls/Warplane018.xml\n",
            "/content/data/images/Warplane026.jpg\n",
            "/content/data/xmls/Warplane026.xml\n",
            "/content/data/images/Tank825.jpg\n",
            "/content/data/xmls/Tank825.xml\n",
            "/content/data/images/Tank505.jpg\n",
            "/content/data/xmls/Tank505.xml\n",
            "/content/data/images/Ship008.jpg\n",
            "/content/data/xmls/Ship008.xml\n",
            "/content/data/images/Warplane006.jpg\n",
            "/content/data/xmls/Warplane006.xml\n",
            "/content/data/images/Plane010.jpg\n",
            "/content/data/xmls/Plane010.xml\n",
            "/content/data/images/Warplane014.jpg\n",
            "/content/data/xmls/Warplane014.xml\n",
            "/content/data/images/Aerialimg0191.jpg\n",
            "/content/data/xmls/Aerialimg0191.xml\n"
          ],
          "name": "stdout"
        },
        {
          "output_type": "stream",
          "text": [
            " 40%|████      | 80/200 [00:03<00:04, 28.95it/s]"
          ],
          "name": "stderr"
        },
        {
          "output_type": "stream",
          "text": [
            "/content/data/images/Plane009.jpg\n",
            "/content/data/xmls/Plane009.xml\n",
            "/content/data/images/Warplane016.jpg\n",
            "/content/data/xmls/Warplane016.xml\n",
            "/content/data/images/Plane005.jpg\n",
            "/content/data/xmls/Plane005.xml\n",
            "/content/data/images/Tank804.jpg\n",
            "/content/data/xmls/Tank804.xml\n",
            "/content/data/images/Ship007.jpg\n",
            "/content/data/xmls/Ship007.xml\n",
            "/content/data/images/Aerialimg0186.jpg\n",
            "/content/data/xmls/Aerialimg0186.xml\n",
            "/content/data/images/Plane030.jpg\n",
            "/content/data/xmls/Plane030.xml\n",
            "/content/data/images/Aerialimg0180.jpg\n",
            "/content/data/xmls/Aerialimg0180.xml\n",
            "/content/data/images/Warplane037.jpg\n",
            "/content/data/xmls/Warplane037.xml\n",
            "/content/data/images/Tank847.jpg\n",
            "/content/data/xmls/Tank847.xml\n"
          ],
          "name": "stdout"
        },
        {
          "output_type": "stream",
          "text": [
            " 44%|████▎     | 87/200 [00:03<00:05, 21.55it/s]"
          ],
          "name": "stderr"
        },
        {
          "output_type": "stream",
          "text": [
            "/content/data/images/Warship030.jpg\n",
            "/content/data/xmls/Warship030.xml\n",
            "/content/data/images/Aerialimg0194.jpg\n",
            "/content/data/xmls/Aerialimg0194.xml\n",
            "/content/data/images/Tank712.jpg\n",
            "/content/data/xmls/Tank712.xml\n",
            "/content/data/images/Warplane015.jpg\n",
            "/content/data/xmls/Warplane015.xml\n"
          ],
          "name": "stdout"
        },
        {
          "output_type": "stream",
          "text": [
            "\r 45%|████▌     | 90/200 [00:03<00:05, 20.95it/s]"
          ],
          "name": "stderr"
        },
        {
          "output_type": "stream",
          "text": [
            "/content/data/images/Tank834.jpg\n",
            "/content/data/xmls/Tank834.xml\n",
            "/content/data/images/Aerialimg0181.jpg\n",
            "/content/data/xmls/Aerialimg0181.xml\n",
            "/content/data/images/Aerialimg0184.jpg\n",
            "/content/data/xmls/Aerialimg0184.xml\n",
            "/content/data/images/Aerialimg0173.jpg\n",
            "/content/data/xmls/Aerialimg0173.xml\n"
          ],
          "name": "stdout"
        },
        {
          "output_type": "stream",
          "text": [
            " 48%|████▊     | 96/200 [00:03<00:05, 18.25it/s]"
          ],
          "name": "stderr"
        },
        {
          "output_type": "stream",
          "text": [
            "/content/data/images/Ship029.jpg\n",
            "/content/data/xmls/Ship029.xml\n",
            "/content/data/images/Ship017.jpg\n",
            "/content/data/xmls/Ship017.xml\n",
            "/content/data/images/Aerialimg0198.jpg\n",
            "/content/data/xmls/Aerialimg0198.xml\n",
            "/content/data/images/Ship004.jpg\n",
            "/content/data/xmls/Ship004.xml\n",
            "/content/data/images/Warplane012.jpg\n",
            "/content/data/xmls/Warplane012.xml\n"
          ],
          "name": "stdout"
        },
        {
          "output_type": "stream",
          "text": [
            "\r 50%|█████     | 101/200 [00:04<00:04, 20.18it/s]"
          ],
          "name": "stderr"
        },
        {
          "output_type": "stream",
          "text": [
            "/content/data/images/Tank629.jpg\n",
            "/content/data/xmls/Tank629.xml\n",
            "/content/data/images/Ship026.jpg\n",
            "/content/data/xmls/Ship026.xml\n",
            "/content/data/images/Plane002.jpg\n",
            "/content/data/xmls/Plane002.xml\n",
            "/content/data/images/Aerialimg0193.jpg\n",
            "/content/data/xmls/Aerialimg0193.xml\n",
            "/content/data/images/Ship027.jpg\n",
            "/content/data/xmls/Ship027.xml\n"
          ],
          "name": "stdout"
        },
        {
          "output_type": "stream",
          "text": [
            "\r 52%|█████▎    | 105/200 [00:04<00:04, 23.19it/s]"
          ],
          "name": "stderr"
        },
        {
          "output_type": "stream",
          "text": [
            "/content/data/images/Plane013.jpg\n",
            "/content/data/xmls/Plane013.xml\n",
            "/content/data/images/Plane006.jpg\n",
            "/content/data/xmls/Plane006.xml\n",
            "/content/data/images/Tank777.jpg\n",
            "/content/data/xmls/Tank777.xml\n",
            "/content/data/images/Tank862.jpg\n",
            "/content/data/xmls/Tank862.xml\n",
            "/content/data/images/Ship020.jpg\n",
            "/content/data/xmls/Ship020.xml\n",
            "/content/data/images/Ship016.jpg\n",
            "/content/data/xmls/Ship016.xml\n",
            "/content/data/images/Warplane038.jpg\n",
            "/content/data/xmls/Warplane038.xml\n",
            "/content/data/images/Tank467.jpg\n",
            "/content/data/xmls/Tank467.xml\n"
          ],
          "name": "stdout"
        },
        {
          "output_type": "stream",
          "text": [
            " 58%|█████▊    | 117/200 [00:04<00:02, 29.75it/s]"
          ],
          "name": "stderr"
        },
        {
          "output_type": "stream",
          "text": [
            "/content/data/images/Ship010.jpg\n",
            "/content/data/xmls/Ship010.xml\n",
            "/content/data/images/Warship018.jpg\n",
            "/content/data/xmls/Warship018.xml\n",
            "/content/data/images/Warplane002.jpg\n",
            "/content/data/xmls/Warplane002.xml\n",
            "/content/data/images/Warship019.jpg\n",
            "/content/data/xmls/Warship019.xml\n",
            "/content/data/images/Tank815.jpg\n",
            "/content/data/xmls/Tank815.xml\n",
            "/content/data/images/Plane029.jpg\n",
            "/content/data/xmls/Plane029.xml\n",
            "/content/data/images/Plane023.jpg\n",
            "/content/data/xmls/Plane023.xml\n",
            "/content/data/images/Warplane007.jpg\n",
            "/content/data/xmls/Warplane007.xml\n",
            "/content/data/images/Plane007.jpg\n",
            "/content/data/xmls/Plane007.xml\n",
            "/content/data/images/Ship003.jpg\n",
            "/content/data/xmls/Ship003.xml\n",
            "/content/data/images/Plane019.jpg\n",
            "/content/data/xmls/Plane019.xml\n",
            "/content/data/images/Warship002.jpg\n",
            "/content/data/xmls/Warship002.xml\n"
          ],
          "name": "stdout"
        },
        {
          "output_type": "stream",
          "text": [
            " 63%|██████▎   | 126/200 [00:04<00:02, 30.43it/s]"
          ],
          "name": "stderr"
        },
        {
          "output_type": "stream",
          "text": [
            "/content/data/images/Warship001.jpg\n",
            "/content/data/xmls/Warship001.xml\n",
            "/content/data/images/Plane028.jpg\n",
            "/content/data/xmls/Plane028.xml\n",
            "/content/data/images/Aerialimg0176.jpg\n",
            "/content/data/xmls/Aerialimg0176.xml\n",
            "/content/data/images/Warship023.jpg\n",
            "/content/data/xmls/Warship023.xml\n",
            "/content/data/images/Tank750.jpg\n",
            "/content/data/xmls/Tank750.xml\n"
          ],
          "name": "stdout"
        },
        {
          "output_type": "stream",
          "text": [
            " 67%|██████▋   | 134/200 [00:05<00:02, 29.94it/s]"
          ],
          "name": "stderr"
        },
        {
          "output_type": "stream",
          "text": [
            "/content/data/images/Warship009.jpg\n",
            "/content/data/xmls/Warship009.xml\n",
            "/content/data/images/Plane018.jpg\n",
            "/content/data/xmls/Plane018.xml\n",
            "/content/data/images/Tank806.jpg\n",
            "/content/data/xmls/Tank806.xml\n",
            "/content/data/images/Tank519.jpg\n",
            "/content/data/xmls/Tank519.xml\n",
            "/content/data/images/Tank835.jpg\n",
            "/content/data/xmls/Tank835.xml\n",
            "/content/data/images/Warplane024.jpg\n",
            "/content/data/xmls/Warplane024.xml\n",
            "/content/data/images/Warplane034.jpg\n",
            "/content/data/xmls/Warplane034.xml\n",
            "/content/data/images/Ship024.jpg\n",
            "/content/data/xmls/Ship024.xml\n"
          ],
          "name": "stdout"
        },
        {
          "output_type": "stream",
          "text": [
            "\r 69%|██████▉   | 138/200 [00:05<00:02, 24.95it/s]"
          ],
          "name": "stderr"
        },
        {
          "output_type": "stream",
          "text": [
            "/content/data/images/Aerialimg0185.jpg\n",
            "/content/data/xmls/Aerialimg0185.xml\n",
            "/content/data/images/Warplane008.jpg\n",
            "/content/data/xmls/Warplane008.xml\n",
            "/content/data/images/Aerialimg0175.jpg\n",
            "/content/data/xmls/Aerialimg0175.xml\n"
          ],
          "name": "stdout"
        },
        {
          "output_type": "stream",
          "text": [
            "\r 70%|███████   | 141/200 [00:05<00:02, 22.91it/s]"
          ],
          "name": "stderr"
        },
        {
          "output_type": "stream",
          "text": [
            "/content/data/images/Warship024.jpg\n",
            "/content/data/xmls/Warship024.xml\n",
            "/content/data/images/Tank719.jpg\n",
            "/content/data/xmls/Tank719.xml\n",
            "/content/data/images/Aerialimg0188.jpg\n",
            "/content/data/xmls/Aerialimg0188.xml\n",
            "/content/data/images/Ship025.jpg\n",
            "/content/data/xmls/Ship025.xml\n",
            "/content/data/images/Warplane003.jpg\n",
            "/content/data/xmls/Warplane003.xml\n",
            "/content/data/images/Tank680.jpg\n",
            "/content/data/xmls/Tank680.xml\n"
          ],
          "name": "stdout"
        },
        {
          "output_type": "stream",
          "text": [
            " 75%|███████▌  | 150/200 [00:05<00:01, 29.37it/s]"
          ],
          "name": "stderr"
        },
        {
          "output_type": "stream",
          "text": [
            "/content/data/images/Plane021.jpg\n",
            "/content/data/xmls/Plane021.xml\n",
            "/content/data/images/Warship012.jpg\n",
            "/content/data/xmls/Warship012.xml\n",
            "/content/data/images/Warship003.jpg\n",
            "/content/data/xmls/Warship003.xml\n",
            "/content/data/images/Warplane027.jpg\n",
            "/content/data/xmls/Warplane027.xml\n",
            "/content/data/images/Ship011.jpg\n",
            "/content/data/xmls/Ship011.xml\n",
            "/content/data/images/Warplane004.jpg\n",
            "/content/data/xmls/Warplane004.xml\n",
            "/content/data/images/Warship025.jpg\n",
            "/content/data/xmls/Warship025.xml\n",
            "/content/data/images/Plane011.jpg\n",
            "/content/data/xmls/Plane011.xml\n",
            "/content/data/images/Aerialimg0183.jpg\n",
            "/content/data/xmls/Aerialimg0183.xml\n"
          ],
          "name": "stdout"
        },
        {
          "output_type": "stream",
          "text": [
            " 79%|███████▉  | 158/200 [00:06<00:01, 27.01it/s]"
          ],
          "name": "stderr"
        },
        {
          "output_type": "stream",
          "text": [
            "/content/data/images/Ship023.jpg\n",
            "/content/data/xmls/Ship023.xml\n",
            "/content/data/images/Tank663.jpg\n",
            "/content/data/xmls/Tank663.xml\n",
            "/content/data/images/Tank838.jpg\n",
            "/content/data/xmls/Tank838.xml\n",
            "/content/data/images/Plane015.jpg\n",
            "/content/data/xmls/Plane015.xml\n",
            "/content/data/images/Ship014.jpg\n",
            "/content/data/xmls/Ship014.xml\n",
            "/content/data/images/Aerialimg0172.jpg\n",
            "/content/data/xmls/Aerialimg0172.xml\n"
          ],
          "name": "stdout"
        },
        {
          "output_type": "stream",
          "text": [
            " 82%|████████▎ | 165/200 [00:06<00:01, 27.00it/s]"
          ],
          "name": "stderr"
        },
        {
          "output_type": "stream",
          "text": [
            "/content/data/images/Ship009.jpg\n",
            "/content/data/xmls/Ship009.xml\n",
            "/content/data/images/Warplane040.jpg\n",
            "/content/data/xmls/Warplane040.xml\n",
            "/content/data/images/Warship015.jpg\n",
            "/content/data/xmls/Warship015.xml\n",
            "/content/data/images/Warship004.jpg\n",
            "/content/data/xmls/Warship004.xml\n",
            "/content/data/images/Tank427.jpg\n",
            "/content/data/xmls/Tank427.xml\n",
            "/content/data/images/Warplane001.jpg\n",
            "/content/data/xmls/Warplane001.xml\n",
            "/content/data/images/Warplane039.jpg\n",
            "/content/data/xmls/Warplane039.xml\n",
            "/content/data/images/Aerialimg0171.jpg\n",
            "/content/data/xmls/Aerialimg0171.xml\n"
          ],
          "name": "stdout"
        },
        {
          "output_type": "stream",
          "text": [
            " 86%|████████▋ | 173/200 [00:06<00:00, 27.92it/s]"
          ],
          "name": "stderr"
        },
        {
          "output_type": "stream",
          "text": [
            "/content/data/images/Plane014.jpg\n",
            "/content/data/xmls/Plane014.xml\n",
            "/content/data/images/Warplane033.jpg\n",
            "/content/data/xmls/Warplane033.xml\n",
            "/content/data/images/Warship028.jpg\n",
            "/content/data/xmls/Warship028.xml\n",
            "/content/data/images/Warplane032.jpg\n",
            "/content/data/xmls/Warplane032.xml\n",
            "/content/data/images/Tank844.jpg\n",
            "/content/data/xmls/Tank844.xml\n",
            "/content/data/images/Tank794.jpg\n",
            "/content/data/xmls/Tank794.xml\n",
            "/content/data/images/Plane012.jpg\n",
            "/content/data/xmls/Plane012.xml\n",
            "/content/data/images/Aerialimg0178.jpg\n",
            "/content/data/xmls/Aerialimg0178.xml\n"
          ],
          "name": "stdout"
        },
        {
          "output_type": "stream",
          "text": [
            "\r 88%|████████▊ | 176/200 [00:06<00:00, 25.63it/s]"
          ],
          "name": "stderr"
        },
        {
          "output_type": "stream",
          "text": [
            "/content/data/images/Plane017.jpg\n",
            "/content/data/xmls/Plane017.xml\n",
            "/content/data/images/Tank820.jpg\n",
            "/content/data/xmls/Tank820.xml\n",
            "/content/data/images/Tank782.jpg\n",
            "/content/data/xmls/Tank782.xml\n",
            "/content/data/images/Tank690.jpg\n",
            "/content/data/xmls/Tank690.xml\n"
          ],
          "name": "stdout"
        },
        {
          "output_type": "stream",
          "text": [
            " 92%|█████████▏| 183/200 [00:07<00:00, 22.39it/s]"
          ],
          "name": "stderr"
        },
        {
          "output_type": "stream",
          "text": [
            "/content/data/images/Tank631.jpg\n",
            "/content/data/xmls/Tank631.xml\n",
            "/content/data/images/Warplane011.jpg\n",
            "/content/data/xmls/Warplane011.xml\n",
            "/content/data/images/Warplane013.jpg\n",
            "/content/data/xmls/Warplane013.xml\n",
            "/content/data/images/Tank833.jpg\n",
            "/content/data/xmls/Tank833.xml\n",
            "/content/data/images/Tank444.jpg\n",
            "/content/data/xmls/Tank444.xml\n",
            "/content/data/images/Warplane029.jpg\n",
            "/content/data/xmls/Warplane029.xml\n",
            "/content/data/images/Aerialimg0189.jpg\n",
            "/content/data/xmls/Aerialimg0189.xml\n"
          ],
          "name": "stdout"
        },
        {
          "output_type": "stream",
          "text": [
            "\r 93%|█████████▎| 186/200 [00:07<00:00, 20.18it/s]"
          ],
          "name": "stderr"
        },
        {
          "output_type": "stream",
          "text": [
            "/content/data/images/Warship013.jpg\n",
            "/content/data/xmls/Warship013.xml\n",
            "/content/data/images/Warplane005.jpg\n",
            "/content/data/xmls/Warplane005.xml\n",
            "/content/data/images/Ship005.jpg\n",
            "/content/data/xmls/Ship005.xml\n",
            "/content/data/images/Warplane019.jpg\n",
            "/content/data/xmls/Warplane019.xml\n"
          ],
          "name": "stdout"
        },
        {
          "output_type": "stream",
          "text": [
            " 98%|█████████▊| 196/200 [00:07<00:00, 16.04it/s]"
          ],
          "name": "stderr"
        },
        {
          "output_type": "stream",
          "text": [
            "/content/data/images/Ship006.jpg\n",
            "/content/data/xmls/Ship006.xml\n",
            "/content/data/images/Ship021.jpg\n",
            "/content/data/xmls/Ship021.xml\n",
            "/content/data/images/Warplane017.jpg\n",
            "/content/data/xmls/Warplane017.xml\n",
            "/content/data/images/Warplane010.jpg\n",
            "/content/data/xmls/Warplane010.xml\n",
            "/content/data/images/Plane022.jpg\n",
            "/content/data/xmls/Plane022.xml\n",
            "/content/data/images/Warplane020.jpg\n",
            "/content/data/xmls/Warplane020.xml\n",
            "/content/data/images/Ship022.jpg\n",
            "/content/data/xmls/Ship022.xml\n",
            "/content/data/images/Aerialimg0196.jpg\n",
            "/content/data/xmls/Aerialimg0196.xml\n"
          ],
          "name": "stdout"
        },
        {
          "output_type": "stream",
          "text": [
            "100%|██████████| 200/200 [00:08<00:00, 24.50it/s]"
          ],
          "name": "stderr"
        },
        {
          "output_type": "stream",
          "text": [
            "/content/data/images/Plane003.jpg\n",
            "/content/data/xmls/Plane003.xml\n",
            "/content/data/images/Ship030.jpg\n",
            "/content/data/xmls/Ship030.xml\n"
          ],
          "name": "stdout"
        },
        {
          "output_type": "stream",
          "text": [
            "\n"
          ],
          "name": "stderr"
        }
      ]
    },
    {
      "cell_type": "code",
      "metadata": {
        "id": "iBn0eNqZd4e_",
        "colab_type": "code",
        "colab": {
          "base_uri": "https://localhost:8080/",
          "height": 34
        },
        "outputId": "b78038c3-db62-48a2-f978-4be70e8091db"
      },
      "source": [
        "len(os.listdir(DIR_SHAPES))"
      ],
      "execution_count": 38,
      "outputs": [
        {
          "output_type": "execute_result",
          "data": {
            "text/plain": [
              "200"
            ]
          },
          "metadata": {
            "tags": []
          },
          "execution_count": 38
        }
      ]
    },
    {
      "cell_type": "code",
      "metadata": {
        "id": "rgyhOz09d4fB",
        "colab_type": "code",
        "colab": {
          "base_uri": "https://localhost:8080/",
          "height": 34
        },
        "outputId": "8436c458-c396-406b-8d16-4fefa698d6b9"
      },
      "source": [
        "len(invalid)"
      ],
      "execution_count": 39,
      "outputs": [
        {
          "output_type": "execute_result",
          "data": {
            "text/plain": [
              "0"
            ]
          },
          "metadata": {
            "tags": []
          },
          "execution_count": 39
        }
      ]
    },
    {
      "cell_type": "code",
      "metadata": {
        "id": "MIwunKaRd4fD",
        "colab_type": "code",
        "colab": {}
      },
      "source": [
        "imgs = sorted(os.listdir(DIR_SHAPES))"
      ],
      "execution_count": 40,
      "outputs": []
    },
    {
      "cell_type": "code",
      "metadata": {
        "id": "J7GvmfMPd4fF",
        "colab_type": "code",
        "colab": {}
      },
      "source": [
        "random.shuffle(imgs)"
      ],
      "execution_count": 41,
      "outputs": []
    },
    {
      "cell_type": "code",
      "metadata": {
        "id": "-_7GlWFDd4fO",
        "colab_type": "code",
        "colab": {}
      },
      "source": [
        "INFO = {\n",
        "    \"description\": \"ObjectDetection\",\n",
        "    \"url\": \"example.com\",\n",
        "    \"version\": \"0.1.0\",\n",
        "    \"year\": 2019,\n",
        "    \"contributor\": \"GB\",\n",
        "    \"date_created\": datetime.datetime.utcnow().isoformat(' ')\n",
        "}\n",
        "\n",
        "LICENSES = [\n",
        "    {\n",
        "        \"id\": 1,\n",
        "        \"name\": \"Some License\",\n",
        "        \"url\": \"http://somewebsite.com/\"\n",
        "    }\n",
        "]\n",
        "####\n",
        "# Warplane\n",
        "# Plane\n",
        "# Tank\n",
        "# Warship\n",
        "# Ship\n",
        "# Person\n",
        "# MilitaryTruck\n",
        "# MilitaryJeep\n",
        "\n",
        "CATEGORIES = [\n",
        "    {\n",
        "        'id': 1,\n",
        "        'name': 'Warplane',\n",
        "        'supercategory': 'objdet',\n",
        "    },\n",
        "    {\n",
        "        'id': 2,\n",
        "        'name': 'Plane',\n",
        "        'supercategory': 'objdet',\n",
        "    },\n",
        "    {\n",
        "        'id': 3,\n",
        "        'name': 'Tank',\n",
        "        'supercategory': 'objdet',\n",
        "    },\n",
        "     {\n",
        "        'id': 4,\n",
        "        'name': 'Warship',\n",
        "        'supercategory': 'objdet',\n",
        "    },\n",
        "     {\n",
        "        'id': 5,\n",
        "        'name': 'Ship',\n",
        "        'supercategory': 'objdet',\n",
        "    },\n",
        "    {\n",
        "        'id': 6,\n",
        "        'name': 'Person',\n",
        "        'supercategory': 'objdet',\n",
        "    },\n",
        "     {\n",
        "        'id': 7,\n",
        "        'name': 'MilitaryTruck',\n",
        "        'supercategory': 'objdet',\n",
        "    },\n",
        "    {\n",
        "        'id': 8,\n",
        "        'name': 'MilitaryJeep',\n",
        "        'supercategory': 'objdet',\n",
        "    },\n",
        "    \n",
        "]"
      ],
      "execution_count": 42,
      "outputs": []
    },
    {
      "cell_type": "code",
      "metadata": {
        "id": "bPXu73OMd4fQ",
        "colab_type": "code",
        "colab": {
          "base_uri": "https://localhost:8080/",
          "height": 118
        },
        "outputId": "d4bbb9ab-4209-4d2b-f764-cade453452d4"
      },
      "source": [
        "INFO"
      ],
      "execution_count": 43,
      "outputs": [
        {
          "output_type": "execute_result",
          "data": {
            "text/plain": [
              "{'contributor': 'GB',\n",
              " 'date_created': '2020-08-09 09:35:24.987598',\n",
              " 'description': 'ObjectDetection',\n",
              " 'url': 'example.com',\n",
              " 'version': '0.1.0',\n",
              " 'year': 2019}"
            ]
          },
          "metadata": {
            "tags": []
          },
          "execution_count": 43
        }
      ]
    },
    {
      "cell_type": "code",
      "metadata": {
        "id": "0PDEbtxhd4fR",
        "colab_type": "code",
        "colab": {}
      },
      "source": [
        "IMAGE_DIR =DIR_SHAPES\n",
        "ANNOTATION_DIR = DIR_ANN\n",
        "ROOT_DIR= Root_Path"
      ],
      "execution_count": 44,
      "outputs": []
    },
    {
      "cell_type": "code",
      "metadata": {
        "id": "Ll_6B8wJd4fT",
        "colab_type": "code",
        "colab": {}
      },
      "source": [
        "def filter_for_jpeg(root, files):\n",
        "    file_types = ['*.jpeg', '*.jpg']\n",
        "    file_types = r'|'.join([fnmatch.translate(x) for x in file_types])\n",
        "    files = [os.path.join(root, f) for f in files]\n",
        "    files = [f for f in files if re.match(file_types, f)]\n",
        "    return files\n",
        "\n"
      ],
      "execution_count": 45,
      "outputs": []
    },
    {
      "cell_type": "code",
      "metadata": {
        "id": "XWYpmcdId4fU",
        "colab_type": "code",
        "colab": {}
      },
      "source": [
        "def filter_for_annotations(root, files, image_filename):\n",
        "    image_basename = os.path.basename(image_filename)\n",
        "    files = [os.path.join(root,f) for f in files if f.split('_')[0] == image_basename[:-4]]\n",
        "    return files"
      ],
      "execution_count": 46,
      "outputs": []
    },
    {
      "cell_type": "code",
      "metadata": {
        "id": "n1HYv8W3d4fY",
        "colab_type": "code",
        "colab": {
          "base_uri": "https://localhost:8080/",
          "height": 34
        },
        "outputId": "6d9595a6-4052-4e12-e854-6a92e9d95b18"
      },
      "source": [
        "len(os.listdir(IMAGE_DIR))"
      ],
      "execution_count": 47,
      "outputs": [
        {
          "output_type": "execute_result",
          "data": {
            "text/plain": [
              "200"
            ]
          },
          "metadata": {
            "tags": []
          },
          "execution_count": 47
        }
      ]
    },
    {
      "cell_type": "markdown",
      "metadata": {
        "id": "V2Qg8qD1k6_7",
        "colab_type": "text"
      },
      "source": [
        "## Coco Json File Creation"
      ]
    },
    {
      "cell_type": "code",
      "metadata": {
        "id": "hsSRN1oWd4fb",
        "colab_type": "code",
        "colab": {}
      },
      "source": [
        "def main():\n",
        "\n",
        "    coco_output = {\n",
        "        \"info\": INFO,\n",
        "        \"licenses\": LICENSES,\n",
        "        \"categories\": CATEGORIES,\n",
        "        \"images\": [],\n",
        "        \"annotations\": []\n",
        "    }\n",
        "\n",
        "    image_id = 1\n",
        "    segmentation_id = 1\n",
        "    \n",
        "    # filter for jpeg images\n",
        "    for root, _, files in os.walk(IMAGE_DIR):\n",
        "        image_files = filter_for_jpeg(root, files)\n",
        "\n",
        "        # go through each image\n",
        "        for image_filename in image_files:\n",
        "            image = Image.open(image_filename)\n",
        "            image_info = pycococreatortools.create_image_info(\n",
        "                image_id, os.path.basename(image_filename), image.size)\n",
        "            coco_output[\"images\"].append(image_info)\n",
        "\n",
        "            # filter for associated png annotations\n",
        "            for root, _, files in os.walk(ANNOTATION_DIR):\n",
        "                annotation_files = filter_for_annotations(root, files, image_filename)\n",
        "\n",
        "                # go through each associated annotation\n",
        "                for annotation_filename in annotation_files:\n",
        "                    print(annotation_filename)\n",
        "                    class_id = [x['id'] for x in CATEGORIES if x['name'] in annotation_filename][0]\n",
        "                    category_info = {'id': class_id, 'is_crowd': 'crowd' in image_filename}\n",
        "                    binary_mask = np.asarray(Image.open(annotation_filename)\n",
        "                        .convert('1')).astype(np.uint8)\n",
        "                    \n",
        "                    annotation_info = pycococreatortools.create_annotation_info(\n",
        "                        segmentation_id, image_id, category_info, binary_mask,\n",
        "                        image.size, tolerance=2)\n",
        "\n",
        "                    if annotation_info is not None:\n",
        "                        coco_output[\"annotations\"].append(annotation_info)\n",
        "\n",
        "                    segmentation_id = segmentation_id + 1\n",
        "\n",
        "            image_id = image_id + 1\n",
        "\n",
        "    with open('{}/military_coco_creation_test.json'.format(ROOT_DIR), 'w') as output_json_file:\n",
        "    #with open('{}/military_coco_creation_val.json'.format(ROOT_DIR), 'w') as output_json_file:\n",
        "    #with open('{}/military_coco_creation_train.json'.format(ROOT_DIR), 'w') as output_json_file:  \n",
        "        json.dump(coco_output, output_json_file)\n"
      ],
      "execution_count": 52,
      "outputs": []
    },
    {
      "cell_type": "code",
      "metadata": {
        "id": "owOmq2lpd4fd",
        "colab_type": "code",
        "colab": {
          "base_uri": "https://localhost:8080/",
          "height": 1000
        },
        "outputId": "b0195baa-1105-4ad5-c64c-5cf6ea500659"
      },
      "source": [
        "main()"
      ],
      "execution_count": 53,
      "outputs": [
        {
          "output_type": "stream",
          "text": [
            "/content/data/annotations/199_Warship_0.jpg\n",
            "/content/data/annotations/74_Ship_0.jpg\n",
            "/content/data/annotations/132_Warplane_0.jpg\n",
            "/content/data/annotations/106_Tank_0.jpg\n",
            "/content/data/annotations/77_Ship_0.jpg\n",
            "/content/data/annotations/172_Warship_0.jpg\n",
            "/content/data/annotations/91_Tank_0.jpg\n",
            "/content/data/annotations/91_Person_1.jpg\n",
            "/content/data/annotations/141_Warplane_0.jpg\n",
            "/content/data/annotations/65_Ship_0.jpg\n",
            "/content/data/annotations/160_Warplane_4.jpg\n",
            "/content/data/annotations/160_Warplane_3.jpg\n",
            "/content/data/annotations/160_Warplane_1.jpg\n",
            "/content/data/annotations/160_Warplane_7.jpg\n",
            "/content/data/annotations/160_Warplane_2.jpg\n",
            "/content/data/annotations/160_Warplane_8.jpg\n",
            "/content/data/annotations/160_Warplane_0.jpg\n",
            "/content/data/annotations/160_Warplane_5.jpg\n",
            "/content/data/annotations/160_Warplane_6.jpg\n",
            "/content/data/annotations/67_Ship_0.jpg\n",
            "/content/data/annotations/144_Warplane_0.jpg\n",
            "/content/data/annotations/54_Plane_0.jpg\n",
            "/content/data/annotations/158_Warplane_0.jpg\n",
            "/content/data/annotations/147_Warplane_0.jpg\n",
            "/content/data/annotations/163_Warplane_0.jpg\n",
            "/content/data/annotations/41_Plane_0.jpg\n",
            "/content/data/annotations/107_Person_2.jpg\n",
            "/content/data/annotations/107_Tank_0.jpg\n",
            "/content/data/annotations/107_Person_1.jpg\n",
            "/content/data/annotations/107_Person_3.jpg\n",
            "/content/data/annotations/161_Warplane_0.jpg\n",
            "/content/data/annotations/104_Tank_0.jpg\n",
            "/content/data/annotations/175_Warship_0.jpg\n",
            "/content/data/annotations/123_Tank_0.jpg\n",
            "/content/data/annotations/123_Person_2.jpg\n",
            "/content/data/annotations/123_Person_4.jpg\n",
            "/content/data/annotations/123_Person_1.jpg\n",
            "/content/data/annotations/123_Person_5.jpg\n",
            "/content/data/annotations/123_Person_3.jpg\n",
            "/content/data/annotations/72_Ship_0.jpg\n",
            "/content/data/annotations/90_Tank_0.jpg\n",
            "/content/data/annotations/68_Ship_0.jpg\n",
            "/content/data/annotations/95_Person_1.jpg\n",
            "/content/data/annotations/95_Person_3.jpg\n",
            "/content/data/annotations/95_Person_4.jpg\n",
            "/content/data/annotations/95_Person_2.jpg\n",
            "/content/data/annotations/95_Tank_0.jpg\n",
            "/content/data/annotations/150_Warplane_0.jpg\n",
            "/content/data/annotations/60_Ship_0.jpg\n",
            "/content/data/annotations/193_Warship_0.jpg\n",
            "/content/data/annotations/76_Ship_0.jpg\n",
            "/content/data/annotations/22_MilitaryTruck_0.jpg\n",
            "/content/data/annotations/22_MilitaryTruck_1.jpg\n",
            "/content/data/annotations/22_MilitaryTruck_2.jpg\n",
            "/content/data/annotations/22_MilitaryJeep_3.jpg\n",
            "/content/data/annotations/102_Tank_1.jpg\n",
            "/content/data/annotations/102_Tank_0.jpg\n",
            "/content/data/annotations/128_Person_1.jpg\n",
            "/content/data/annotations/128_Tank_0.jpg\n",
            "/content/data/annotations/38_Plane_0.jpg\n",
            "/content/data/annotations/146_Warplane_0.jpg\n",
            "/content/data/annotations/169_Warplane_0.jpg\n",
            "/content/data/annotations/183_Warship_0.jpg\n",
            "/content/data/annotations/11_MilitaryTruck_1.jpg\n",
            "/content/data/annotations/11_MilitaryJeep_3.jpg\n",
            "/content/data/annotations/11_MilitaryTruck_2.jpg\n",
            "/content/data/annotations/11_MilitaryTruck_0.jpg\n",
            "/content/data/annotations/173_Warship_0.jpg\n",
            "/content/data/annotations/108_Person_3.jpg\n",
            "/content/data/annotations/108_Tank_1.jpg\n",
            "/content/data/annotations/108_Person_2.jpg\n",
            "/content/data/annotations/108_Tank_0.jpg\n",
            "/content/data/annotations/114_Tank_0.jpg\n",
            "/content/data/annotations/154_Warplane_0.jpg\n",
            "/content/data/annotations/180_Warship_0.jpg\n",
            "/content/data/annotations/177_Warship_0.jpg\n",
            "/content/data/annotations/140_Warplane_0.jpg\n",
            "/content/data/annotations/30_Plane_0.jpg\n",
            "/content/data/annotations/153_Warplane_0.jpg\n",
            "/content/data/annotations/13_MilitaryTruck_1.jpg\n",
            "/content/data/annotations/13_MilitaryJeep_3.jpg\n",
            "/content/data/annotations/13_MilitaryTruck_2.jpg\n",
            "/content/data/annotations/13_MilitaryTruck_0.jpg\n",
            "/content/data/annotations/164_Warplane_0.jpg\n",
            "/content/data/annotations/58_Plane_0.jpg\n",
            "/content/data/annotations/71_Ship_0.jpg\n",
            "/content/data/annotations/52_Plane_0.jpg\n",
            "/content/data/annotations/119_Tank_0.jpg\n",
            "/content/data/annotations/196_Warship_0.jpg\n",
            "/content/data/annotations/116_Person_1.jpg\n",
            "/content/data/annotations/116_Person_3.jpg\n",
            "/content/data/annotations/116_Person_4.jpg\n",
            "/content/data/annotations/116_Tank_0.jpg\n",
            "/content/data/annotations/116_Person_2.jpg\n",
            "/content/data/annotations/138_Warplane_0.jpg\n",
            "/content/data/annotations/124_Tank_0.jpg\n",
            "/content/data/annotations/130_Warplane_0.jpg\n",
            "/content/data/annotations/23_MilitaryTruck_0.jpg\n",
            "/content/data/annotations/23_MilitaryTruck_2.jpg\n",
            "/content/data/annotations/23_MilitaryJeep_3.jpg\n",
            "/content/data/annotations/23_MilitaryTruck_1.jpg\n",
            "/content/data/annotations/167_Warplane_0.jpg\n",
            "/content/data/annotations/167_Warplane_3.jpg\n",
            "/content/data/annotations/167_Warplane_2.jpg\n",
            "/content/data/annotations/167_Warplane_1.jpg\n",
            "/content/data/annotations/83_Ship_0.jpg\n",
            "/content/data/annotations/4_MilitaryTruck_0.jpg\n",
            "/content/data/annotations/4_MilitaryTruck_1.jpg\n",
            "/content/data/annotations/4_MilitaryJeep_3.jpg\n",
            "/content/data/annotations/4_MilitaryTruck_2.jpg\n",
            "/content/data/annotations/190_Warship_1.jpg\n",
            "/content/data/annotations/190_Warship_0.jpg\n",
            "/content/data/annotations/101_Tank_0.jpg\n",
            "/content/data/annotations/159_Warplane_0.jpg\n",
            "/content/data/annotations/39_Plane_0.jpg\n",
            "/content/data/annotations/197_Warship_0.jpg\n",
            "/content/data/annotations/129_Tank_0.jpg\n",
            "/content/data/annotations/192_Warship_0.jpg\n",
            "/content/data/annotations/87_Ship_0.jpg\n",
            "/content/data/annotations/120_Tank_1.jpg\n",
            "/content/data/annotations/120_Tank_0.jpg\n",
            "/content/data/annotations/21_MilitaryTruck_0.jpg\n",
            "/content/data/annotations/21_MilitaryTruck_1.jpg\n",
            "/content/data/annotations/21_MilitaryTruck_2.jpg\n",
            "/content/data/annotations/21_MilitaryJeep_3.jpg\n",
            "/content/data/annotations/43_Plane_0.jpg\n",
            "/content/data/annotations/48_Plane_0.jpg\n",
            "/content/data/annotations/100_Tank_0.jpg\n",
            "/content/data/annotations/44_Plane_0.jpg\n",
            "/content/data/annotations/152_Warplane_0.jpg\n",
            "/content/data/annotations/61_Ship_0.jpg\n",
            "/content/data/annotations/191_Warship_0.jpg\n",
            "/content/data/annotations/32_Plane_0.jpg\n",
            "/content/data/annotations/88_Ship_1.jpg\n",
            "/content/data/annotations/88_Ship_2.jpg\n",
            "/content/data/annotations/88_Ship_0.jpg\n",
            "/content/data/annotations/181_Warship_0.jpg\n",
            "/content/data/annotations/8_MilitaryJeep_3.jpg\n",
            "/content/data/annotations/8_MilitaryTruck_2.jpg\n",
            "/content/data/annotations/8_MilitaryTruck_0.jpg\n",
            "/content/data/annotations/8_MilitaryTruck_1.jpg\n",
            "/content/data/annotations/125_Person_1.jpg\n",
            "/content/data/annotations/125_Person_3.jpg\n",
            "/content/data/annotations/125_Tank_0.jpg\n",
            "/content/data/annotations/125_Person_4.jpg\n",
            "/content/data/annotations/125_Person_2.jpg\n",
            "/content/data/annotations/85_Ship_0.jpg\n",
            "/content/data/annotations/176_Warship_0.jpg\n",
            "/content/data/annotations/24_MilitaryJeep_3.jpg\n",
            "/content/data/annotations/24_MilitaryTruck_2.jpg\n",
            "/content/data/annotations/24_MilitaryTruck_0.jpg\n",
            "/content/data/annotations/24_MilitaryTruck_1.jpg\n",
            "/content/data/annotations/105_Tank_0.jpg\n",
            "/content/data/annotations/105_Person_4.jpg\n",
            "/content/data/annotations/105_Person_1.jpg\n",
            "/content/data/annotations/105_Person_2.jpg\n",
            "/content/data/annotations/105_Person_3.jpg\n",
            "/content/data/annotations/194_Warship_0.jpg\n",
            "/content/data/annotations/10_MilitaryTruck_1.jpg\n",
            "/content/data/annotations/10_MilitaryTruck_0.jpg\n",
            "/content/data/annotations/10_MilitaryJeep_3.jpg\n",
            "/content/data/annotations/10_MilitaryTruck_2.jpg\n",
            "/content/data/annotations/79_Ship_0.jpg\n",
            "/content/data/annotations/112_Person_1.jpg\n",
            "/content/data/annotations/112_Person_3.jpg\n",
            "/content/data/annotations/112_Tank_0.jpg\n",
            "/content/data/annotations/112_Person_2.jpg\n",
            "/content/data/annotations/185_Warship_0.jpg\n",
            "/content/data/annotations/185_Person_1.jpg\n",
            "/content/data/annotations/185_Person_3.jpg\n",
            "/content/data/annotations/185_Person_2.jpg\n",
            "/content/data/annotations/188_Warship_0.jpg\n",
            "/content/data/annotations/51_Plane_0.jpg\n",
            "/content/data/annotations/135_Warplane_0.jpg\n",
            "/content/data/annotations/122_Tank_0.jpg\n",
            "/content/data/annotations/81_Ship_0.jpg\n",
            "/content/data/annotations/126_Tank_0.jpg\n",
            "/content/data/annotations/126_Person_1.jpg\n",
            "/content/data/annotations/59_Plane_0.jpg\n",
            "/content/data/annotations/115_Tank_0.jpg\n",
            "/content/data/annotations/145_Warplane_0.jpg\n",
            "/content/data/annotations/151_Warplane_0.jpg\n",
            "/content/data/annotations/27_MilitaryJeep_3.jpg\n",
            "/content/data/annotations/27_MilitaryTruck_2.jpg\n",
            "/content/data/annotations/27_MilitaryTruck_0.jpg\n",
            "/content/data/annotations/27_MilitaryTruck_1.jpg\n",
            "/content/data/annotations/93_Person_1.jpg\n",
            "/content/data/annotations/93_Tank_0.jpg\n",
            "/content/data/annotations/93_Person_6.jpg\n",
            "/content/data/annotations/93_Person_4.jpg\n",
            "/content/data/annotations/93_Person_5.jpg\n",
            "/content/data/annotations/93_Person_3.jpg\n",
            "/content/data/annotations/93_Person_2.jpg\n",
            "/content/data/annotations/179_Warship_0.jpg\n",
            "/content/data/annotations/133_Warplane_0.jpg\n",
            "/content/data/annotations/162_Warplane_0.jpg\n",
            "/content/data/annotations/34_Person_1.jpg\n",
            "/content/data/annotations/34_Plane_0.jpg\n",
            "/content/data/annotations/56_Plane_0.jpg\n",
            "/content/data/annotations/110_Tank_0.jpg\n",
            "/content/data/annotations/26_MilitaryTruck_2.jpg\n",
            "/content/data/annotations/26_MilitaryTruck_0.jpg\n",
            "/content/data/annotations/26_MilitaryJeep_3.jpg\n",
            "/content/data/annotations/26_MilitaryTruck_1.jpg\n",
            "/content/data/annotations/50_Plane_0.jpg\n",
            "/content/data/annotations/170_Warship_0.jpg\n",
            "/content/data/annotations/137_Warplane_0.jpg\n",
            "/content/data/annotations/69_Ship_0.jpg\n",
            "/content/data/annotations/57_Plane_0.jpg\n",
            "/content/data/annotations/42_Plane_0.jpg\n",
            "/content/data/annotations/195_Warship_0.jpg\n",
            "/content/data/annotations/187_Warship_0.jpg\n",
            "/content/data/annotations/98_Tank_0.jpg\n",
            "/content/data/annotations/55_Plane_0.jpg\n",
            "/content/data/annotations/28_MilitaryTruck_2.jpg\n",
            "/content/data/annotations/28_MilitaryTruck_1.jpg\n",
            "/content/data/annotations/28_MilitaryTruck_0.jpg\n",
            "/content/data/annotations/28_MilitaryJeep_3.jpg\n",
            "/content/data/annotations/86_Ship_0.jpg\n",
            "/content/data/annotations/46_Plane_0.jpg\n",
            "/content/data/annotations/45_Plane_0.jpg\n",
            "/content/data/annotations/149_Warplane_0.jpg\n",
            "/content/data/annotations/171_Warship_0.jpg\n",
            "/content/data/annotations/171_Warship_1.jpg\n",
            "/content/data/annotations/171_Warship_2.jpg\n",
            "/content/data/annotations/99_Person_3.jpg\n",
            "/content/data/annotations/99_Person_1.jpg\n",
            "/content/data/annotations/99_Person_2.jpg\n",
            "/content/data/annotations/99_Tank_0.jpg\n",
            "/content/data/annotations/136_Warplane_1.jpg\n",
            "/content/data/annotations/136_Warplane_0.jpg\n",
            "/content/data/annotations/66_Ship_0.jpg\n",
            "/content/data/annotations/47_Plane_0.jpg\n",
            "/content/data/annotations/1_MilitaryJeep_3.jpg\n",
            "/content/data/annotations/1_MilitaryTruck_1.jpg\n",
            "/content/data/annotations/1_MilitaryTruck_0.jpg\n",
            "/content/data/annotations/1_MilitaryTruck_2.jpg\n",
            "/content/data/annotations/64_Ship_0.jpg\n",
            "/content/data/annotations/94_Tank_0.jpg\n",
            "/content/data/annotations/94_Person_2.jpg\n",
            "/content/data/annotations/94_Person_5.jpg\n",
            "/content/data/annotations/94_Person_4.jpg\n",
            "/content/data/annotations/94_Person_3.jpg\n",
            "/content/data/annotations/94_Person_1.jpg\n",
            "/content/data/annotations/35_Plane_0.jpg\n",
            "/content/data/annotations/73_Ship_0.jpg\n",
            "/content/data/annotations/174_Warship_0.jpg\n",
            "/content/data/annotations/29_MilitaryTruck_1.jpg\n",
            "/content/data/annotations/29_MilitaryJeep_3.jpg\n",
            "/content/data/annotations/29_MilitaryTruck_2.jpg\n",
            "/content/data/annotations/29_MilitaryTruck_0.jpg\n",
            "/content/data/annotations/148_Warplane_2.jpg\n",
            "/content/data/annotations/148_Warplane_0.jpg\n",
            "/content/data/annotations/148_Warplane_1.jpg\n",
            "/content/data/annotations/148_Warplane_3.jpg\n",
            "/content/data/annotations/186_Warship_0.jpg\n",
            "/content/data/annotations/178_Warship_0.jpg\n",
            "/content/data/annotations/33_Plane_0.jpg\n",
            "/content/data/annotations/2_MilitaryTruck_1.jpg\n",
            "/content/data/annotations/2_MilitaryJeep_3.jpg\n",
            "/content/data/annotations/2_MilitaryTruck_0.jpg\n",
            "/content/data/annotations/2_MilitaryTruck_2.jpg\n",
            "/content/data/annotations/20_MilitaryTruck_1.jpg\n",
            "/content/data/annotations/20_MilitaryTruck_0.jpg\n",
            "/content/data/annotations/20_MilitaryTruck_2.jpg\n",
            "/content/data/annotations/20_MilitaryJeep_3.jpg\n",
            "/content/data/annotations/92_Tank_1.jpg\n",
            "/content/data/annotations/92_Tank_0.jpg\n",
            "/content/data/annotations/139_Warplane_0.jpg\n",
            "/content/data/annotations/31_Plane_0.jpg\n",
            "/content/data/annotations/117_Tank_0.jpg\n",
            "/content/data/annotations/40_Plane_0.jpg\n",
            "/content/data/annotations/6_MilitaryTruck_0.jpg\n",
            "/content/data/annotations/6_MilitaryTruck_1.jpg\n",
            "/content/data/annotations/6_MilitaryTruck_2.jpg\n",
            "/content/data/annotations/6_MilitaryJeep_3.jpg\n",
            "/content/data/annotations/97_Tank_0.jpg\n",
            "/content/data/annotations/70_Ship_0.jpg\n",
            "/content/data/annotations/89_Ship_0.jpg\n",
            "/content/data/annotations/18_MilitaryTruck_2.jpg\n",
            "/content/data/annotations/18_MilitaryJeep_3.jpg\n",
            "/content/data/annotations/18_MilitaryTruck_0.jpg\n",
            "/content/data/annotations/18_MilitaryTruck_1.jpg\n",
            "/content/data/annotations/15_MilitaryTruck_2.jpg\n",
            "/content/data/annotations/15_MilitaryTruck_1.jpg\n",
            "/content/data/annotations/15_MilitaryTruck_0.jpg\n",
            "/content/data/annotations/15_MilitaryJeep_3.jpg\n",
            "/content/data/annotations/53_Plane_0.jpg\n",
            "/content/data/annotations/142_Warplane_0.jpg\n",
            "/content/data/annotations/157_Warplane_1.jpg\n",
            "/content/data/annotations/157_Warplane_2.jpg\n",
            "/content/data/annotations/157_Warplane_0.jpg\n",
            "/content/data/annotations/165_Warplane_0.jpg\n",
            "/content/data/annotations/19_MilitaryTruck_1.jpg\n",
            "/content/data/annotations/19_MilitaryTruck_2.jpg\n",
            "/content/data/annotations/19_MilitaryTruck_0.jpg\n",
            "/content/data/annotations/19_MilitaryJeep_3.jpg\n",
            "/content/data/annotations/182_Warship_0.jpg\n",
            "/content/data/annotations/111_Person_1.jpg\n",
            "/content/data/annotations/111_Tank_0.jpg\n",
            "/content/data/annotations/113_Tank_2.jpg\n",
            "/content/data/annotations/113_Person_3.jpg\n",
            "/content/data/annotations/113_Tank_1.jpg\n",
            "/content/data/annotations/113_Tank_0.jpg\n",
            "/content/data/annotations/37_Plane_0.jpg\n",
            "/content/data/annotations/3_MilitaryJeep_3.jpg\n",
            "/content/data/annotations/3_MilitaryTruck_0.jpg\n",
            "/content/data/annotations/3_MilitaryTruck_1.jpg\n",
            "/content/data/annotations/3_MilitaryTruck_2.jpg\n",
            "/content/data/annotations/143_Warplane_0.jpg\n",
            "/content/data/annotations/62_Ship_0.jpg\n",
            "/content/data/annotations/84_Ship_0.jpg\n",
            "/content/data/annotations/0_MilitaryTruck_1.jpg\n",
            "/content/data/annotations/0_MilitaryTruck_0.jpg\n",
            "/content/data/annotations/0_MilitaryTruck_2.jpg\n",
            "/content/data/annotations/0_MilitaryJeep_3.jpg\n",
            "/content/data/annotations/82_Ship_0.jpg\n",
            "/content/data/annotations/198_Warship_0.jpg\n",
            "/content/data/annotations/118_Tank_0.jpg\n",
            "/content/data/annotations/118_Person_1.jpg\n",
            "/content/data/annotations/49_Plane_0.jpg\n",
            "/content/data/annotations/16_MilitaryTruck_0.jpg\n",
            "/content/data/annotations/16_MilitaryTruck_2.jpg\n",
            "/content/data/annotations/16_MilitaryTruck_1.jpg\n",
            "/content/data/annotations/16_MilitaryJeep_3.jpg\n",
            "/content/data/annotations/80_Ship_0.jpg\n",
            "/content/data/annotations/127_Tank_0.jpg\n",
            "/content/data/annotations/7_MilitaryTruck_1.jpg\n",
            "/content/data/annotations/7_MilitaryTruck_0.jpg\n",
            "/content/data/annotations/7_MilitaryTruck_2.jpg\n",
            "/content/data/annotations/7_MilitaryJeep_3.jpg\n",
            "/content/data/annotations/134_Warplane_0.jpg\n",
            "/content/data/annotations/134_Warplane_1.jpg\n",
            "/content/data/annotations/78_Ship_0.jpg\n",
            "/content/data/annotations/121_Tank_0.jpg\n",
            "/content/data/annotations/189_Warship_0.jpg\n",
            "/content/data/annotations/25_MilitaryJeep_3.jpg\n",
            "/content/data/annotations/25_MilitaryTruck_0.jpg\n",
            "/content/data/annotations/25_MilitaryTruck_2.jpg\n",
            "/content/data/annotations/25_MilitaryTruck_1.jpg\n",
            "/content/data/annotations/5_MilitaryJeep_3.jpg\n",
            "/content/data/annotations/5_MilitaryTruck_0.jpg\n",
            "/content/data/annotations/5_MilitaryTruck_1.jpg\n",
            "/content/data/annotations/5_MilitaryTruck_2.jpg\n",
            "/content/data/annotations/166_Warplane_3.jpg\n",
            "/content/data/annotations/166_Warplane_0.jpg\n",
            "/content/data/annotations/166_Warplane_1.jpg\n",
            "/content/data/annotations/166_Warplane_2.jpg\n",
            "/content/data/annotations/17_MilitaryTruck_2.jpg\n",
            "/content/data/annotations/17_MilitaryTruck_0.jpg\n",
            "/content/data/annotations/17_MilitaryTruck_1.jpg\n",
            "/content/data/annotations/17_MilitaryJeep_3.jpg\n",
            "/content/data/annotations/156_Warplane_0.jpg\n",
            "/content/data/annotations/96_Person_2.jpg\n",
            "/content/data/annotations/96_Person_1.jpg\n",
            "/content/data/annotations/96_Tank_0.jpg\n",
            "/content/data/annotations/109_Tank_0.jpg\n",
            "/content/data/annotations/109_Person_1.jpg\n",
            "/content/data/annotations/109_Person_2.jpg\n",
            "/content/data/annotations/63_Ship_1.jpg\n",
            "/content/data/annotations/63_Ship_0.jpg\n",
            "/content/data/annotations/63_Ship_2.jpg\n",
            "/content/data/annotations/36_Plane_0.jpg\n",
            "/content/data/annotations/12_MilitaryTruck_2.jpg\n",
            "/content/data/annotations/12_MilitaryTruck_0.jpg\n",
            "/content/data/annotations/12_MilitaryJeep_3.jpg\n",
            "/content/data/annotations/12_MilitaryTruck_1.jpg\n",
            "/content/data/annotations/103_Tank_0.jpg\n",
            "/content/data/annotations/155_Warplane_0.jpg\n",
            "/content/data/annotations/9_MilitaryJeep_3.jpg\n",
            "/content/data/annotations/9_MilitaryTruck_2.jpg\n",
            "/content/data/annotations/9_MilitaryTruck_0.jpg\n",
            "/content/data/annotations/9_MilitaryTruck_1.jpg\n",
            "/content/data/annotations/184_Warship_0.jpg\n",
            "/content/data/annotations/75_Ship_0.jpg\n",
            "/content/data/annotations/14_MilitaryTruck_1.jpg\n",
            "/content/data/annotations/14_MilitaryTruck_0.jpg\n",
            "/content/data/annotations/14_MilitaryTruck_2.jpg\n",
            "/content/data/annotations/14_MilitaryJeep_3.jpg\n",
            "/content/data/annotations/131_Warplane_0.jpg\n",
            "/content/data/annotations/168_Warplane_0.jpg\n"
          ],
          "name": "stdout"
        }
      ]
    }
  ]
}